{
 "cells": [
  {
   "cell_type": "markdown",
   "metadata": {
    "papermill": {
     "duration": 0.026081,
     "end_time": "2020-10-07T14:06:04.602700",
     "exception": false,
     "start_time": "2020-10-07T14:06:04.576619",
     "status": "completed"
    },
    "tags": []
   },
   "source": [
    "<font color ='red'>\n",
    "Content :\n",
    "    \n",
    "1. [Import Libraries](#1)\n",
    "    \n",
    "2. [Load Data](#2)     \n",
    "    \n",
    "3. [Visualization](#3)    \n",
    "    \n",
    "4. [Classification](#4)"
   ]
  },
  {
   "cell_type": "markdown",
   "metadata": {
    "papermill": {
     "duration": 0.025297,
     "end_time": "2020-10-07T14:06:04.653244",
     "exception": false,
     "start_time": "2020-10-07T14:06:04.627947",
     "status": "completed"
    },
    "tags": []
   },
   "source": [
    "<a id = \"1\"></a>\n",
    "# Import Libraries\n"
   ]
  },
  {
   "cell_type": "code",
   "execution_count": 1,
   "metadata": {
    "_cell_guid": "b1076dfc-b9ad-4769-8c92-a6c4dae69d19",
    "_uuid": "8f2839f25d086af736a60e9eeb907d3b93b6e0e5",
    "execution": {
     "iopub.execute_input": "2020-10-07T14:06:04.715113Z",
     "iopub.status.busy": "2020-10-07T14:06:04.714333Z",
     "iopub.status.idle": "2020-10-07T14:06:06.233831Z",
     "shell.execute_reply": "2020-10-07T14:06:06.232887Z"
    },
    "papermill": {
     "duration": 1.555951,
     "end_time": "2020-10-07T14:06:06.234003",
     "exception": false,
     "start_time": "2020-10-07T14:06:04.678052",
     "status": "completed"
    },
    "tags": []
   },
   "outputs": [
    {
     "name": "stdout",
     "output_type": "stream",
     "text": [
      "/kaggle/input/heart-disease-uci/heart.csv\n"
     ]
    }
   ],
   "source": [
    "# Libraries\n",
    "import matplotlib.pyplot as plt # Visualization\n",
    "import seaborn as sns # Visualization\n",
    "import numpy as np # linear algebra\n",
    "import pandas as pd # data processing, CSV file I/O (e.g. pd.read_csv)\n",
    "from sklearn.model_selection import train_test_split # Train and Test Split\n",
    "from sklearn.linear_model import LogisticRegression # Logistic Regression Classification\n",
    "from sklearn.neighbors import KNeighborsClassifier # Knn Classification\n",
    "from sklearn.svm import SVC # Support Vector Machine Classification\n",
    "from sklearn.naive_bayes import GaussianNB # Naive Bayes\n",
    "from sklearn.tree import DecisionTreeClassifier # Decision Tree\n",
    "from sklearn.ensemble import RandomForestClassifier # Random Forest Classifier\n",
    "from sklearn.metrics import confusion_matrix # Confusion Matrix\n",
    "\n",
    "import os\n",
    "for dirname, _, filenames in os.walk('/kaggle/input'):\n",
    "    for filename in filenames:\n",
    "        print(os.path.join(dirname, filename))"
   ]
  },
  {
   "cell_type": "markdown",
   "metadata": {
    "papermill": {
     "duration": 0.025547,
     "end_time": "2020-10-07T14:06:06.286353",
     "exception": false,
     "start_time": "2020-10-07T14:06:06.260806",
     "status": "completed"
    },
    "tags": []
   },
   "source": [
    "<a id = \"2\"></a>\n",
    "# Load Data"
   ]
  },
  {
   "cell_type": "code",
   "execution_count": 2,
   "metadata": {
    "_cell_guid": "79c7e3d0-c299-4dcb-8224-4455121ee9b0",
    "_uuid": "d629ff2d2480ee46fbb7e2d37f6b5fab8052498a",
    "execution": {
     "iopub.execute_input": "2020-10-07T14:06:06.345101Z",
     "iopub.status.busy": "2020-10-07T14:06:06.344295Z",
     "iopub.status.idle": "2020-10-07T14:06:06.377603Z",
     "shell.execute_reply": "2020-10-07T14:06:06.378358Z"
    },
    "papermill": {
     "duration": 0.066755,
     "end_time": "2020-10-07T14:06:06.378520",
     "exception": false,
     "start_time": "2020-10-07T14:06:06.311765",
     "status": "completed"
    },
    "tags": []
   },
   "outputs": [
    {
     "name": "stdout",
     "output_type": "stream",
     "text": [
      "<class 'pandas.core.frame.DataFrame'>\n",
      "RangeIndex: 303 entries, 0 to 302\n",
      "Data columns (total 14 columns):\n",
      " #   Column    Non-Null Count  Dtype  \n",
      "---  ------    --------------  -----  \n",
      " 0   age       303 non-null    int64  \n",
      " 1   sex       303 non-null    int64  \n",
      " 2   cp        303 non-null    int64  \n",
      " 3   trestbps  303 non-null    int64  \n",
      " 4   chol      303 non-null    int64  \n",
      " 5   fbs       303 non-null    int64  \n",
      " 6   restecg   303 non-null    int64  \n",
      " 7   thalach   303 non-null    int64  \n",
      " 8   exang     303 non-null    int64  \n",
      " 9   oldpeak   303 non-null    float64\n",
      " 10  slope     303 non-null    int64  \n",
      " 11  ca        303 non-null    int64  \n",
      " 12  thal      303 non-null    int64  \n",
      " 13  target    303 non-null    int64  \n",
      "dtypes: float64(1), int64(13)\n",
      "memory usage: 33.3 KB\n"
     ]
    }
   ],
   "source": [
    "data = pd.read_csv(r\"/kaggle/input/heart-disease-uci/heart.csv\")\n",
    "data.info()"
   ]
  },
  {
   "cell_type": "code",
   "execution_count": 3,
   "metadata": {
    "execution": {
     "iopub.execute_input": "2020-10-07T14:06:06.443915Z",
     "iopub.status.busy": "2020-10-07T14:06:06.443075Z",
     "iopub.status.idle": "2020-10-07T14:06:06.455186Z",
     "shell.execute_reply": "2020-10-07T14:06:06.455829Z"
    },
    "papermill": {
     "duration": 0.05118,
     "end_time": "2020-10-07T14:06:06.455994",
     "exception": false,
     "start_time": "2020-10-07T14:06:06.404814",
     "status": "completed"
    },
    "tags": []
   },
   "outputs": [
    {
     "data": {
      "text/html": [
       "<div>\n",
       "<style scoped>\n",
       "    .dataframe tbody tr th:only-of-type {\n",
       "        vertical-align: middle;\n",
       "    }\n",
       "\n",
       "    .dataframe tbody tr th {\n",
       "        vertical-align: top;\n",
       "    }\n",
       "\n",
       "    .dataframe thead th {\n",
       "        text-align: right;\n",
       "    }\n",
       "</style>\n",
       "<table border=\"1\" class=\"dataframe\">\n",
       "  <thead>\n",
       "    <tr style=\"text-align: right;\">\n",
       "      <th></th>\n",
       "      <th>age</th>\n",
       "      <th>sex</th>\n",
       "      <th>cp</th>\n",
       "      <th>trestbps</th>\n",
       "      <th>chol</th>\n",
       "      <th>fbs</th>\n",
       "      <th>restecg</th>\n",
       "      <th>thalach</th>\n",
       "      <th>exang</th>\n",
       "      <th>oldpeak</th>\n",
       "      <th>slope</th>\n",
       "      <th>ca</th>\n",
       "      <th>thal</th>\n",
       "      <th>target</th>\n",
       "    </tr>\n",
       "  </thead>\n",
       "  <tbody>\n",
       "    <tr>\n",
       "      <th>0</th>\n",
       "      <td>63</td>\n",
       "      <td>1</td>\n",
       "      <td>3</td>\n",
       "      <td>145</td>\n",
       "      <td>233</td>\n",
       "      <td>1</td>\n",
       "      <td>0</td>\n",
       "      <td>150</td>\n",
       "      <td>0</td>\n",
       "      <td>2.3</td>\n",
       "      <td>0</td>\n",
       "      <td>0</td>\n",
       "      <td>1</td>\n",
       "      <td>1</td>\n",
       "    </tr>\n",
       "    <tr>\n",
       "      <th>1</th>\n",
       "      <td>37</td>\n",
       "      <td>1</td>\n",
       "      <td>2</td>\n",
       "      <td>130</td>\n",
       "      <td>250</td>\n",
       "      <td>0</td>\n",
       "      <td>1</td>\n",
       "      <td>187</td>\n",
       "      <td>0</td>\n",
       "      <td>3.5</td>\n",
       "      <td>0</td>\n",
       "      <td>0</td>\n",
       "      <td>2</td>\n",
       "      <td>1</td>\n",
       "    </tr>\n",
       "    <tr>\n",
       "      <th>2</th>\n",
       "      <td>41</td>\n",
       "      <td>0</td>\n",
       "      <td>1</td>\n",
       "      <td>130</td>\n",
       "      <td>204</td>\n",
       "      <td>0</td>\n",
       "      <td>0</td>\n",
       "      <td>172</td>\n",
       "      <td>0</td>\n",
       "      <td>1.4</td>\n",
       "      <td>2</td>\n",
       "      <td>0</td>\n",
       "      <td>2</td>\n",
       "      <td>1</td>\n",
       "    </tr>\n",
       "    <tr>\n",
       "      <th>3</th>\n",
       "      <td>56</td>\n",
       "      <td>1</td>\n",
       "      <td>1</td>\n",
       "      <td>120</td>\n",
       "      <td>236</td>\n",
       "      <td>0</td>\n",
       "      <td>1</td>\n",
       "      <td>178</td>\n",
       "      <td>0</td>\n",
       "      <td>0.8</td>\n",
       "      <td>2</td>\n",
       "      <td>0</td>\n",
       "      <td>2</td>\n",
       "      <td>1</td>\n",
       "    </tr>\n",
       "    <tr>\n",
       "      <th>4</th>\n",
       "      <td>57</td>\n",
       "      <td>0</td>\n",
       "      <td>0</td>\n",
       "      <td>120</td>\n",
       "      <td>354</td>\n",
       "      <td>0</td>\n",
       "      <td>1</td>\n",
       "      <td>163</td>\n",
       "      <td>1</td>\n",
       "      <td>0.6</td>\n",
       "      <td>2</td>\n",
       "      <td>0</td>\n",
       "      <td>2</td>\n",
       "      <td>1</td>\n",
       "    </tr>\n",
       "  </tbody>\n",
       "</table>\n",
       "</div>"
      ],
      "text/plain": [
       "   age  sex  cp  trestbps  chol  fbs  restecg  thalach  exang  oldpeak  slope  \\\n",
       "0   63    1   3       145   233    1        0      150      0      2.3      0   \n",
       "1   37    1   2       130   250    0        1      187      0      3.5      0   \n",
       "2   41    0   1       130   204    0        0      172      0      1.4      2   \n",
       "3   56    1   1       120   236    0        1      178      0      0.8      2   \n",
       "4   57    0   0       120   354    0        1      163      1      0.6      2   \n",
       "\n",
       "   ca  thal  target  \n",
       "0   0     1       1  \n",
       "1   0     2       1  \n",
       "2   0     2       1  \n",
       "3   0     2       1  \n",
       "4   0     2       1  "
      ]
     },
     "execution_count": 3,
     "metadata": {},
     "output_type": "execute_result"
    }
   ],
   "source": [
    "data.head()"
   ]
  },
  {
   "cell_type": "code",
   "execution_count": 4,
   "metadata": {
    "execution": {
     "iopub.execute_input": "2020-10-07T14:06:06.524083Z",
     "iopub.status.busy": "2020-10-07T14:06:06.523210Z",
     "iopub.status.idle": "2020-10-07T14:06:06.576965Z",
     "shell.execute_reply": "2020-10-07T14:06:06.576206Z"
    },
    "papermill": {
     "duration": 0.092588,
     "end_time": "2020-10-07T14:06:06.577093",
     "exception": false,
     "start_time": "2020-10-07T14:06:06.484505",
     "status": "completed"
    },
    "tags": []
   },
   "outputs": [
    {
     "data": {
      "text/html": [
       "<div>\n",
       "<style scoped>\n",
       "    .dataframe tbody tr th:only-of-type {\n",
       "        vertical-align: middle;\n",
       "    }\n",
       "\n",
       "    .dataframe tbody tr th {\n",
       "        vertical-align: top;\n",
       "    }\n",
       "\n",
       "    .dataframe thead th {\n",
       "        text-align: right;\n",
       "    }\n",
       "</style>\n",
       "<table border=\"1\" class=\"dataframe\">\n",
       "  <thead>\n",
       "    <tr style=\"text-align: right;\">\n",
       "      <th></th>\n",
       "      <th>age</th>\n",
       "      <th>sex</th>\n",
       "      <th>cp</th>\n",
       "      <th>trestbps</th>\n",
       "      <th>chol</th>\n",
       "      <th>fbs</th>\n",
       "      <th>restecg</th>\n",
       "      <th>thalach</th>\n",
       "      <th>exang</th>\n",
       "      <th>oldpeak</th>\n",
       "      <th>slope</th>\n",
       "      <th>ca</th>\n",
       "      <th>thal</th>\n",
       "      <th>target</th>\n",
       "    </tr>\n",
       "  </thead>\n",
       "  <tbody>\n",
       "    <tr>\n",
       "      <th>count</th>\n",
       "      <td>303.000000</td>\n",
       "      <td>303.000000</td>\n",
       "      <td>303.000000</td>\n",
       "      <td>303.000000</td>\n",
       "      <td>303.000000</td>\n",
       "      <td>303.000000</td>\n",
       "      <td>303.000000</td>\n",
       "      <td>303.000000</td>\n",
       "      <td>303.000000</td>\n",
       "      <td>303.000000</td>\n",
       "      <td>303.000000</td>\n",
       "      <td>303.000000</td>\n",
       "      <td>303.000000</td>\n",
       "      <td>303.000000</td>\n",
       "    </tr>\n",
       "    <tr>\n",
       "      <th>mean</th>\n",
       "      <td>54.366337</td>\n",
       "      <td>0.683168</td>\n",
       "      <td>0.966997</td>\n",
       "      <td>131.623762</td>\n",
       "      <td>246.264026</td>\n",
       "      <td>0.148515</td>\n",
       "      <td>0.528053</td>\n",
       "      <td>149.646865</td>\n",
       "      <td>0.326733</td>\n",
       "      <td>1.039604</td>\n",
       "      <td>1.399340</td>\n",
       "      <td>0.729373</td>\n",
       "      <td>2.313531</td>\n",
       "      <td>0.544554</td>\n",
       "    </tr>\n",
       "    <tr>\n",
       "      <th>std</th>\n",
       "      <td>9.082101</td>\n",
       "      <td>0.466011</td>\n",
       "      <td>1.032052</td>\n",
       "      <td>17.538143</td>\n",
       "      <td>51.830751</td>\n",
       "      <td>0.356198</td>\n",
       "      <td>0.525860</td>\n",
       "      <td>22.905161</td>\n",
       "      <td>0.469794</td>\n",
       "      <td>1.161075</td>\n",
       "      <td>0.616226</td>\n",
       "      <td>1.022606</td>\n",
       "      <td>0.612277</td>\n",
       "      <td>0.498835</td>\n",
       "    </tr>\n",
       "    <tr>\n",
       "      <th>min</th>\n",
       "      <td>29.000000</td>\n",
       "      <td>0.000000</td>\n",
       "      <td>0.000000</td>\n",
       "      <td>94.000000</td>\n",
       "      <td>126.000000</td>\n",
       "      <td>0.000000</td>\n",
       "      <td>0.000000</td>\n",
       "      <td>71.000000</td>\n",
       "      <td>0.000000</td>\n",
       "      <td>0.000000</td>\n",
       "      <td>0.000000</td>\n",
       "      <td>0.000000</td>\n",
       "      <td>0.000000</td>\n",
       "      <td>0.000000</td>\n",
       "    </tr>\n",
       "    <tr>\n",
       "      <th>25%</th>\n",
       "      <td>47.500000</td>\n",
       "      <td>0.000000</td>\n",
       "      <td>0.000000</td>\n",
       "      <td>120.000000</td>\n",
       "      <td>211.000000</td>\n",
       "      <td>0.000000</td>\n",
       "      <td>0.000000</td>\n",
       "      <td>133.500000</td>\n",
       "      <td>0.000000</td>\n",
       "      <td>0.000000</td>\n",
       "      <td>1.000000</td>\n",
       "      <td>0.000000</td>\n",
       "      <td>2.000000</td>\n",
       "      <td>0.000000</td>\n",
       "    </tr>\n",
       "    <tr>\n",
       "      <th>50%</th>\n",
       "      <td>55.000000</td>\n",
       "      <td>1.000000</td>\n",
       "      <td>1.000000</td>\n",
       "      <td>130.000000</td>\n",
       "      <td>240.000000</td>\n",
       "      <td>0.000000</td>\n",
       "      <td>1.000000</td>\n",
       "      <td>153.000000</td>\n",
       "      <td>0.000000</td>\n",
       "      <td>0.800000</td>\n",
       "      <td>1.000000</td>\n",
       "      <td>0.000000</td>\n",
       "      <td>2.000000</td>\n",
       "      <td>1.000000</td>\n",
       "    </tr>\n",
       "    <tr>\n",
       "      <th>75%</th>\n",
       "      <td>61.000000</td>\n",
       "      <td>1.000000</td>\n",
       "      <td>2.000000</td>\n",
       "      <td>140.000000</td>\n",
       "      <td>274.500000</td>\n",
       "      <td>0.000000</td>\n",
       "      <td>1.000000</td>\n",
       "      <td>166.000000</td>\n",
       "      <td>1.000000</td>\n",
       "      <td>1.600000</td>\n",
       "      <td>2.000000</td>\n",
       "      <td>1.000000</td>\n",
       "      <td>3.000000</td>\n",
       "      <td>1.000000</td>\n",
       "    </tr>\n",
       "    <tr>\n",
       "      <th>max</th>\n",
       "      <td>77.000000</td>\n",
       "      <td>1.000000</td>\n",
       "      <td>3.000000</td>\n",
       "      <td>200.000000</td>\n",
       "      <td>564.000000</td>\n",
       "      <td>1.000000</td>\n",
       "      <td>2.000000</td>\n",
       "      <td>202.000000</td>\n",
       "      <td>1.000000</td>\n",
       "      <td>6.200000</td>\n",
       "      <td>2.000000</td>\n",
       "      <td>4.000000</td>\n",
       "      <td>3.000000</td>\n",
       "      <td>1.000000</td>\n",
       "    </tr>\n",
       "  </tbody>\n",
       "</table>\n",
       "</div>"
      ],
      "text/plain": [
       "              age         sex          cp    trestbps        chol         fbs  \\\n",
       "count  303.000000  303.000000  303.000000  303.000000  303.000000  303.000000   \n",
       "mean    54.366337    0.683168    0.966997  131.623762  246.264026    0.148515   \n",
       "std      9.082101    0.466011    1.032052   17.538143   51.830751    0.356198   \n",
       "min     29.000000    0.000000    0.000000   94.000000  126.000000    0.000000   \n",
       "25%     47.500000    0.000000    0.000000  120.000000  211.000000    0.000000   \n",
       "50%     55.000000    1.000000    1.000000  130.000000  240.000000    0.000000   \n",
       "75%     61.000000    1.000000    2.000000  140.000000  274.500000    0.000000   \n",
       "max     77.000000    1.000000    3.000000  200.000000  564.000000    1.000000   \n",
       "\n",
       "          restecg     thalach       exang     oldpeak       slope          ca  \\\n",
       "count  303.000000  303.000000  303.000000  303.000000  303.000000  303.000000   \n",
       "mean     0.528053  149.646865    0.326733    1.039604    1.399340    0.729373   \n",
       "std      0.525860   22.905161    0.469794    1.161075    0.616226    1.022606   \n",
       "min      0.000000   71.000000    0.000000    0.000000    0.000000    0.000000   \n",
       "25%      0.000000  133.500000    0.000000    0.000000    1.000000    0.000000   \n",
       "50%      1.000000  153.000000    0.000000    0.800000    1.000000    0.000000   \n",
       "75%      1.000000  166.000000    1.000000    1.600000    2.000000    1.000000   \n",
       "max      2.000000  202.000000    1.000000    6.200000    2.000000    4.000000   \n",
       "\n",
       "             thal      target  \n",
       "count  303.000000  303.000000  \n",
       "mean     2.313531    0.544554  \n",
       "std      0.612277    0.498835  \n",
       "min      0.000000    0.000000  \n",
       "25%      2.000000    0.000000  \n",
       "50%      2.000000    1.000000  \n",
       "75%      3.000000    1.000000  \n",
       "max      3.000000    1.000000  "
      ]
     },
     "execution_count": 4,
     "metadata": {},
     "output_type": "execute_result"
    }
   ],
   "source": [
    "data.describe()"
   ]
  },
  {
   "cell_type": "code",
   "execution_count": 5,
   "metadata": {
    "execution": {
     "iopub.execute_input": "2020-10-07T14:06:06.642139Z",
     "iopub.status.busy": "2020-10-07T14:06:06.641142Z",
     "iopub.status.idle": "2020-10-07T14:06:06.646116Z",
     "shell.execute_reply": "2020-10-07T14:06:06.645523Z"
    },
    "papermill": {
     "duration": 0.040983,
     "end_time": "2020-10-07T14:06:06.646245",
     "exception": false,
     "start_time": "2020-10-07T14:06:06.605262",
     "status": "completed"
    },
    "tags": []
   },
   "outputs": [
    {
     "data": {
      "text/plain": [
       "age         0\n",
       "sex         0\n",
       "cp          0\n",
       "trestbps    0\n",
       "chol        0\n",
       "fbs         0\n",
       "restecg     0\n",
       "thalach     0\n",
       "exang       0\n",
       "oldpeak     0\n",
       "slope       0\n",
       "ca          0\n",
       "thal        0\n",
       "target      0\n",
       "dtype: int64"
      ]
     },
     "execution_count": 5,
     "metadata": {},
     "output_type": "execute_result"
    }
   ],
   "source": [
    "data.isnull().sum()"
   ]
  },
  {
   "cell_type": "markdown",
   "metadata": {
    "papermill": {
     "duration": 0.028697,
     "end_time": "2020-10-07T14:06:06.704230",
     "exception": false,
     "start_time": "2020-10-07T14:06:06.675533",
     "status": "completed"
    },
    "tags": []
   },
   "source": [
    "<a id = \"3\"></a>\n",
    "# Visualization"
   ]
  },
  {
   "cell_type": "code",
   "execution_count": 6,
   "metadata": {
    "execution": {
     "iopub.execute_input": "2020-10-07T14:06:06.770522Z",
     "iopub.status.busy": "2020-10-07T14:06:06.769689Z",
     "iopub.status.idle": "2020-10-07T14:06:06.774794Z",
     "shell.execute_reply": "2020-10-07T14:06:06.774033Z"
    },
    "papermill": {
     "duration": 0.04141,
     "end_time": "2020-10-07T14:06:06.774932",
     "exception": false,
     "start_time": "2020-10-07T14:06:06.733522",
     "status": "completed"
    },
    "tags": []
   },
   "outputs": [
    {
     "data": {
      "text/plain": [
       "1    165\n",
       "0    138\n",
       "Name: target, dtype: int64"
      ]
     },
     "execution_count": 6,
     "metadata": {},
     "output_type": "execute_result"
    }
   ],
   "source": [
    "data.target.value_counts()"
   ]
  },
  {
   "cell_type": "code",
   "execution_count": 7,
   "metadata": {
    "execution": {
     "iopub.execute_input": "2020-10-07T14:06:06.846109Z",
     "iopub.status.busy": "2020-10-07T14:06:06.845253Z",
     "iopub.status.idle": "2020-10-07T14:06:07.065417Z",
     "shell.execute_reply": "2020-10-07T14:06:07.064520Z"
    },
    "papermill": {
     "duration": 0.261422,
     "end_time": "2020-10-07T14:06:07.065555",
     "exception": false,
     "start_time": "2020-10-07T14:06:06.804133",
     "status": "completed"
    },
    "tags": []
   },
   "outputs": [
    {
     "data": {
      "image/png": "[encoded data removed]",
      "text/plain": [
       "<Figure size 432x288 with 1 Axes>"
      ]
     },
     "metadata": {
      "needs_background": "light"
     },
     "output_type": "display_data"
    }
   ],
   "source": [
    "sns.countplot(x=\"target\", data=data, palette=\"bwr\")\n",
    "plt.show()"
   ]
  },
  {
   "cell_type": "code",
   "execution_count": 8,
   "metadata": {
    "execution": {
     "iopub.execute_input": "2020-10-07T14:06:07.140392Z",
     "iopub.status.busy": "2020-10-07T14:06:07.139515Z",
     "iopub.status.idle": "2020-10-07T14:06:07.168911Z",
     "shell.execute_reply": "2020-10-07T14:06:07.168016Z"
    },
    "papermill": {
     "duration": 0.067681,
     "end_time": "2020-10-07T14:06:07.169055",
     "exception": false,
     "start_time": "2020-10-07T14:06:07.101374",
     "status": "completed"
    },
    "tags": []
   },
   "outputs": [
    {
     "name": "stdout",
     "output_type": "stream",
     "text": [
      "Percentage of Patients Haven't Heart Disease: 45.54%\n",
      "Percentage of Patients Have Heart Disease: 54.46%\n"
     ]
    }
   ],
   "source": [
    "countNoDisease = len(data[data.target == 0])\n",
    "countHaveDisease = len(data[data.target == 1])\n",
    "print(\"Percentage of Patients Haven't Heart Disease: {:.2f}%\".format((countNoDisease / (len(data.target))*100)))\n",
    "print(\"Percentage of Patients Have Heart Disease: {:.2f}%\".format((countHaveDisease / (len(data.target))*100)))"
   ]
  },
  {
   "cell_type": "code",
   "execution_count": 9,
   "metadata": {
    "execution": {
     "iopub.execute_input": "2020-10-07T14:06:07.250095Z",
     "iopub.status.busy": "2020-10-07T14:06:07.243400Z",
     "iopub.status.idle": "2020-10-07T14:06:07.380689Z",
     "shell.execute_reply": "2020-10-07T14:06:07.379918Z"
    },
    "papermill": {
     "duration": 0.179682,
     "end_time": "2020-10-07T14:06:07.380816",
     "exception": false,
     "start_time": "2020-10-07T14:06:07.201134",
     "status": "completed"
    },
    "tags": []
   },
   "outputs": [
    {
     "data": {
      "image/png": "[encoded data removed]",
      "text/plain": [
       "<Figure size 432x288 with 1 Axes>"
      ]
     },
     "metadata": {
      "needs_background": "light"
     },
     "output_type": "display_data"
    }
   ],
   "source": [
    "sns.countplot(x='sex', data=data, palette=\"mako_r\")\n",
    "plt.xlabel(\"Sex (0 = female, 1= male)\")\n",
    "plt.show()"
   ]
  },
  {
   "cell_type": "code",
   "execution_count": 10,
   "metadata": {
    "execution": {
     "iopub.execute_input": "2020-10-07T14:06:07.454929Z",
     "iopub.status.busy": "2020-10-07T14:06:07.454141Z",
     "iopub.status.idle": "2020-10-07T14:06:07.457478Z",
     "shell.execute_reply": "2020-10-07T14:06:07.458214Z"
    },
    "papermill": {
     "duration": 0.045531,
     "end_time": "2020-10-07T14:06:07.458421",
     "exception": false,
     "start_time": "2020-10-07T14:06:07.412890",
     "status": "completed"
    },
    "tags": []
   },
   "outputs": [
    {
     "name": "stdout",
     "output_type": "stream",
     "text": [
      "Percentage of Female Patients: 31.68%\n",
      "Percentage of Male Patients: 68.32%\n"
     ]
    }
   ],
   "source": [
    "countFemale = len(data[data.sex == 0])\n",
    "countMale = len(data[data.sex == 1])\n",
    "print(\"Percentage of Female Patients: {:.2f}%\".format((countFemale / (len(data.sex))*100)))\n",
    "print(\"Percentage of Male Patients: {:.2f}%\".format((countMale / (len(data.sex))*100)))"
   ]
  },
  {
   "cell_type": "markdown",
   "metadata": {
    "papermill": {
     "duration": 0.03232,
     "end_time": "2020-10-07T14:06:07.524806",
     "exception": false,
     "start_time": "2020-10-07T14:06:07.492486",
     "status": "completed"
    },
    "tags": []
   },
   "source": [
    "<a id = \"4\"></a>\n",
    "# Classification"
   ]
  },
  {
   "cell_type": "code",
   "execution_count": 11,
   "metadata": {
    "execution": {
     "iopub.execute_input": "2020-10-07T14:06:07.605981Z",
     "iopub.status.busy": "2020-10-07T14:06:07.605121Z",
     "iopub.status.idle": "2020-10-07T14:06:07.706139Z",
     "shell.execute_reply": "2020-10-07T14:06:07.705409Z"
    },
    "papermill": {
     "duration": 0.141779,
     "end_time": "2020-10-07T14:06:07.706277",
     "exception": false,
     "start_time": "2020-10-07T14:06:07.564498",
     "status": "completed"
    },
    "tags": []
   },
   "outputs": [],
   "source": [
    "y = data.target.values\n",
    "x_data = data.drop([\"target\"],axis=1)\n",
    "x = (x_data - np.min(x_data))/(np.max(x_data)-np.min(x_data)) # normalization "
   ]
  },
  {
   "cell_type": "code",
   "execution_count": 12,
   "metadata": {
    "execution": {
     "iopub.execute_input": "2020-10-07T14:06:07.780293Z",
     "iopub.status.busy": "2020-10-07T14:06:07.778977Z",
     "iopub.status.idle": "2020-10-07T14:06:07.783901Z",
     "shell.execute_reply": "2020-10-07T14:06:07.783234Z"
    },
    "papermill": {
     "duration": 0.044897,
     "end_time": "2020-10-07T14:06:07.784029",
     "exception": false,
     "start_time": "2020-10-07T14:06:07.739132",
     "status": "completed"
    },
    "tags": []
   },
   "outputs": [],
   "source": [
    "# train test split\n",
    "x_train, x_test, y_train, y_test = train_test_split(x,y,test_size = 0.3,random_state=1)"
   ]
  },
  {
   "cell_type": "markdown",
   "metadata": {
    "papermill": {
     "duration": 0.032396,
     "end_time": "2020-10-07T14:06:07.848867",
     "exception": false,
     "start_time": "2020-10-07T14:06:07.816471",
     "status": "completed"
    },
    "tags": []
   },
   "source": [
    "We have a data which classified if patients have heart disease or not according to features in it. We will try to use this data to create a model which tries predict if a patient has this disease or not. We will use following algorithms:\n",
    "\n",
    "1. [Logistic Regression Classification](#5)\n",
    "    \n",
    "2. [K - Nearest Neighbor Classification](#6)     \n",
    "    \n",
    "3. [Support Vector Machine Classification](#7)    \n",
    "    \n",
    "4. [Naive Bayes Classification](#8)\n",
    "\n",
    "5. [Decision Tree Classification](#9)    \n",
    "    \n",
    "6. [Random Forest Classification](#10)\n"
   ]
  },
  {
   "cell_type": "markdown",
   "metadata": {
    "papermill": {
     "duration": 0.032185,
     "end_time": "2020-10-07T14:06:07.913522",
     "exception": false,
     "start_time": "2020-10-07T14:06:07.881337",
     "status": "completed"
    },
    "tags": []
   },
   "source": [
    "<a id = \"5\"></a>\n",
    "# Logistic Regression Classification"
   ]
  },
  {
   "cell_type": "code",
   "execution_count": 13,
   "metadata": {
    "execution": {
     "iopub.execute_input": "2020-10-07T14:06:07.987643Z",
     "iopub.status.busy": "2020-10-07T14:06:07.986813Z",
     "iopub.status.idle": "2020-10-07T14:06:08.015027Z",
     "shell.execute_reply": "2020-10-07T14:06:08.014303Z"
    },
    "papermill": {
     "duration": 0.068934,
     "end_time": "2020-10-07T14:06:08.015164",
     "exception": false,
     "start_time": "2020-10-07T14:06:07.946230",
     "status": "completed"
    },
    "tags": []
   },
   "outputs": [
    {
     "name": "stdout",
     "output_type": "stream",
     "text": [
      "Score is 0.7802197802197802\n"
     ]
    }
   ],
   "source": [
    "lr = LogisticRegression()\n",
    "lr.fit(x_train,y_train)\n",
    "print(\"Score is {}\".format(lr.score(x_test,y_test)))"
   ]
  },
  {
   "cell_type": "code",
   "execution_count": 14,
   "metadata": {
    "execution": {
     "iopub.execute_input": "2020-10-07T14:06:08.093586Z",
     "iopub.status.busy": "2020-10-07T14:06:08.091617Z",
     "iopub.status.idle": "2020-10-07T14:06:08.098731Z",
     "shell.execute_reply": "2020-10-07T14:06:08.097726Z"
    },
    "papermill": {
     "duration": 0.049405,
     "end_time": "2020-10-07T14:06:08.098900",
     "exception": false,
     "start_time": "2020-10-07T14:06:08.049495",
     "status": "completed"
    },
    "tags": []
   },
   "outputs": [
    {
     "name": "stdout",
     "output_type": "stream",
     "text": [
      "Confusion Martix:\n",
      "[[30 11]\n",
      " [ 9 41]]\n"
     ]
    }
   ],
   "source": [
    "# Confusion Martix\n",
    "y_pred = lr.predict(x_test)\n",
    "y_true = y_test\n",
    "cm = confusion_matrix(y_true,y_pred)\n",
    "print(\"Confusion Martix:\")\n",
    "print(cm)"
   ]
  },
  {
   "cell_type": "markdown",
   "metadata": {
    "papermill": {
     "duration": 0.033882,
     "end_time": "2020-10-07T14:06:08.167229",
     "exception": false,
     "start_time": "2020-10-07T14:06:08.133347",
     "status": "completed"
    },
    "tags": []
   },
   "source": [
    "<a id = \"6\"></a>\n",
    "# K - Nearest Neighbor Classification"
   ]
  },
  {
   "cell_type": "code",
   "execution_count": 15,
   "metadata": {
    "execution": {
     "iopub.execute_input": "2020-10-07T14:06:08.250914Z",
     "iopub.status.busy": "2020-10-07T14:06:08.249723Z",
     "iopub.status.idle": "2020-10-07T14:06:08.259897Z",
     "shell.execute_reply": "2020-10-07T14:06:08.259225Z"
    },
    "papermill": {
     "duration": 0.058927,
     "end_time": "2020-10-07T14:06:08.260025",
     "exception": false,
     "start_time": "2020-10-07T14:06:08.201098",
     "status": "completed"
    },
    "tags": []
   },
   "outputs": [
    {
     "name": "stdout",
     "output_type": "stream",
     "text": [
      " 3 k Score: 0.7472527472527473 \n"
     ]
    }
   ],
   "source": [
    "knn = KNeighborsClassifier(n_neighbors = 3) # n_neighbors = k\n",
    "knn.fit(x_train,y_train)\n",
    "print(\" {} k Score: {} \".format(3,knn.score(x_test,y_test)))"
   ]
  },
  {
   "cell_type": "code",
   "execution_count": 16,
   "metadata": {
    "execution": {
     "iopub.execute_input": "2020-10-07T14:06:08.337894Z",
     "iopub.status.busy": "2020-10-07T14:06:08.337091Z",
     "iopub.status.idle": "2020-10-07T14:06:08.347866Z",
     "shell.execute_reply": "2020-10-07T14:06:08.347114Z"
    },
    "papermill": {
     "duration": 0.053435,
     "end_time": "2020-10-07T14:06:08.347992",
     "exception": false,
     "start_time": "2020-10-07T14:06:08.294557",
     "status": "completed"
    },
    "tags": []
   },
   "outputs": [
    {
     "name": "stdout",
     "output_type": "stream",
     "text": [
      "Confusion Martix:\n",
      "[[30 11]\n",
      " [12 38]]\n"
     ]
    }
   ],
   "source": [
    "# Confusion Martix\n",
    "y_pred = knn.predict(x_test)\n",
    "y_true = y_test\n",
    "cm = confusion_matrix(y_true,y_pred)\n",
    "print(\"Confusion Martix:\")\n",
    "print(cm)"
   ]
  },
  {
   "cell_type": "markdown",
   "metadata": {
    "papermill": {
     "duration": 0.034725,
     "end_time": "2020-10-07T14:06:08.418044",
     "exception": false,
     "start_time": "2020-10-07T14:06:08.383319",
     "status": "completed"
    },
    "tags": []
   },
   "source": [
    "<a id = \"7\"></a>\n",
    "# Support Vector Machine Classification"
   ]
  },
  {
   "cell_type": "code",
   "execution_count": 17,
   "metadata": {
    "execution": {
     "iopub.execute_input": "2020-10-07T14:06:08.499923Z",
     "iopub.status.busy": "2020-10-07T14:06:08.498840Z",
     "iopub.status.idle": "2020-10-07T14:06:08.509560Z",
     "shell.execute_reply": "2020-10-07T14:06:08.508799Z"
    },
    "papermill": {
     "duration": 0.056372,
     "end_time": "2020-10-07T14:06:08.509712",
     "exception": false,
     "start_time": "2020-10-07T14:06:08.453340",
     "status": "completed"
    },
    "tags": []
   },
   "outputs": [
    {
     "name": "stdout",
     "output_type": "stream",
     "text": [
      "Score:  0.7472527472527473\n"
     ]
    }
   ],
   "source": [
    "svm = SVC(random_state = 1)\n",
    "svm.fit(x_train,y_train)\n",
    "print(\"Score: \",svm.score(x_test,y_test))"
   ]
  },
  {
   "cell_type": "code",
   "execution_count": 18,
   "metadata": {
    "execution": {
     "iopub.execute_input": "2020-10-07T14:06:08.591127Z",
     "iopub.status.busy": "2020-10-07T14:06:08.590258Z",
     "iopub.status.idle": "2020-10-07T14:06:08.597303Z",
     "shell.execute_reply": "2020-10-07T14:06:08.596380Z"
    },
    "papermill": {
     "duration": 0.051148,
     "end_time": "2020-10-07T14:06:08.597481",
     "exception": false,
     "start_time": "2020-10-07T14:06:08.546333",
     "status": "completed"
    },
    "tags": []
   },
   "outputs": [
    {
     "name": "stdout",
     "output_type": "stream",
     "text": [
      "Confusion Martix:\n",
      "[[30 11]\n",
      " [12 38]]\n"
     ]
    }
   ],
   "source": [
    "# Confusion Martix\n",
    "y_pred = svm.predict(x_test)\n",
    "y_true = y_test\n",
    "cm = confusion_matrix(y_true,y_pred)\n",
    "print(\"Confusion Martix:\")\n",
    "print(cm)"
   ]
  },
  {
   "cell_type": "markdown",
   "metadata": {
    "papermill": {
     "duration": 0.037159,
     "end_time": "2020-10-07T14:06:08.671612",
     "exception": false,
     "start_time": "2020-10-07T14:06:08.634453",
     "status": "completed"
    },
    "tags": []
   },
   "source": [
    "<a id = \"8\"></a>\n",
    "# Naive Bayes Classification"
   ]
  },
  {
   "cell_type": "code",
   "execution_count": 19,
   "metadata": {
    "execution": {
     "iopub.execute_input": "2020-10-07T14:06:08.753084Z",
     "iopub.status.busy": "2020-10-07T14:06:08.752257Z",
     "iopub.status.idle": "2020-10-07T14:06:08.760776Z",
     "shell.execute_reply": "2020-10-07T14:06:08.759992Z"
    },
    "papermill": {
     "duration": 0.052986,
     "end_time": "2020-10-07T14:06:08.760911",
     "exception": false,
     "start_time": "2020-10-07T14:06:08.707925",
     "status": "completed"
    },
    "tags": []
   },
   "outputs": [
    {
     "name": "stdout",
     "output_type": "stream",
     "text": [
      "Score:  0.7912087912087912\n"
     ]
    }
   ],
   "source": [
    "nb = GaussianNB()\n",
    "nb.fit(x_train,y_train)\n",
    "print(\"Score: \",nb.score(x_test,y_test))"
   ]
  },
  {
   "cell_type": "code",
   "execution_count": 20,
   "metadata": {
    "execution": {
     "iopub.execute_input": "2020-10-07T14:06:08.843901Z",
     "iopub.status.busy": "2020-10-07T14:06:08.843068Z",
     "iopub.status.idle": "2020-10-07T14:06:08.848344Z",
     "shell.execute_reply": "2020-10-07T14:06:08.848963Z"
    },
    "papermill": {
     "duration": 0.051343,
     "end_time": "2020-10-07T14:06:08.849132",
     "exception": false,
     "start_time": "2020-10-07T14:06:08.797789",
     "status": "completed"
    },
    "tags": []
   },
   "outputs": [
    {
     "name": "stdout",
     "output_type": "stream",
     "text": [
      "Confusion Martix:\n",
      "[[32  9]\n",
      " [10 40]]\n"
     ]
    }
   ],
   "source": [
    "# Confusion Martix\n",
    "y_pred = nb.predict(x_test)\n",
    "y_true = y_test\n",
    "cm = confusion_matrix(y_true,y_pred)\n",
    "print(\"Confusion Martix:\")\n",
    "print(cm)"
   ]
  },
  {
   "cell_type": "markdown",
   "metadata": {
    "papermill": {
     "duration": 0.037074,
     "end_time": "2020-10-07T14:06:08.924171",
     "exception": false,
     "start_time": "2020-10-07T14:06:08.887097",
     "status": "completed"
    },
    "tags": []
   },
   "source": [
    "<a id = \"9\"></a>\n",
    "# Decision Tree Classification"
   ]
  },
  {
   "cell_type": "code",
   "execution_count": 21,
   "metadata": {
    "execution": {
     "iopub.execute_input": "2020-10-07T14:06:09.011931Z",
     "iopub.status.busy": "2020-10-07T14:06:09.011051Z",
     "iopub.status.idle": "2020-10-07T14:06:09.019249Z",
     "shell.execute_reply": "2020-10-07T14:06:09.019833Z"
    },
    "papermill": {
     "duration": 0.058317,
     "end_time": "2020-10-07T14:06:09.020006",
     "exception": false,
     "start_time": "2020-10-07T14:06:08.961689",
     "status": "completed"
    },
    "tags": []
   },
   "outputs": [
    {
     "name": "stdout",
     "output_type": "stream",
     "text": [
      "Score:  0.7032967032967034\n"
     ]
    }
   ],
   "source": [
    "dt = DecisionTreeClassifier()\n",
    "dt.fit(x_train,y_train)\n",
    "print(\"Score: \", dt.score(x_test,y_test))"
   ]
  },
  {
   "cell_type": "code",
   "execution_count": 22,
   "metadata": {
    "execution": {
     "iopub.execute_input": "2020-10-07T14:06:09.108463Z",
     "iopub.status.busy": "2020-10-07T14:06:09.107462Z",
     "iopub.status.idle": "2020-10-07T14:06:09.111038Z",
     "shell.execute_reply": "2020-10-07T14:06:09.111854Z"
    },
    "papermill": {
     "duration": 0.052719,
     "end_time": "2020-10-07T14:06:09.112062",
     "exception": false,
     "start_time": "2020-10-07T14:06:09.059343",
     "status": "completed"
    },
    "tags": []
   },
   "outputs": [
    {
     "name": "stdout",
     "output_type": "stream",
     "text": [
      "Confusion Martix:\n",
      "[[29 12]\n",
      " [15 35]]\n"
     ]
    }
   ],
   "source": [
    "# Confusion Martix\n",
    "y_pred = dt.predict(x_test)\n",
    "y_true = y_test\n",
    "cm = confusion_matrix(y_true,y_pred)\n",
    "print(\"Confusion Martix:\")\n",
    "print(cm)"
   ]
  },
  {
   "cell_type": "markdown",
   "metadata": {
    "papermill": {
     "duration": 0.038252,
     "end_time": "2020-10-07T14:06:09.190083",
     "exception": false,
     "start_time": "2020-10-07T14:06:09.151831",
     "status": "completed"
    },
    "tags": []
   },
   "source": [
    "<a id = \"10\"></a>\n",
    "# Random Forest Classification"
   ]
  },
  {
   "cell_type": "code",
   "execution_count": 23,
   "metadata": {
    "execution": {
     "iopub.execute_input": "2020-10-07T14:06:09.287402Z",
     "iopub.status.busy": "2020-10-07T14:06:09.282291Z",
     "iopub.status.idle": "2020-10-07T14:06:09.521430Z",
     "shell.execute_reply": "2020-10-07T14:06:09.520764Z"
    },
    "papermill": {
     "duration": 0.292241,
     "end_time": "2020-10-07T14:06:09.521566",
     "exception": false,
     "start_time": "2020-10-07T14:06:09.229325",
     "status": "completed"
    },
    "tags": []
   },
   "outputs": [
    {
     "name": "stdout",
     "output_type": "stream",
     "text": [
      "Score:  0.7252747252747253\n"
     ]
    }
   ],
   "source": [
    "rf = RandomForestClassifier(n_estimators = 100,random_state = 1)\n",
    "rf.fit(x_train,y_train)\n",
    "print(\"Score: \",rf.score(x_test,y_test))"
   ]
  },
  {
   "cell_type": "code",
   "execution_count": 24,
   "metadata": {
    "execution": {
     "iopub.execute_input": "2020-10-07T14:06:09.613098Z",
     "iopub.status.busy": "2020-10-07T14:06:09.611810Z",
     "iopub.status.idle": "2020-10-07T14:06:09.630727Z",
     "shell.execute_reply": "2020-10-07T14:06:09.629799Z"
    },
    "papermill": {
     "duration": 0.069288,
     "end_time": "2020-10-07T14:06:09.630920",
     "exception": false,
     "start_time": "2020-10-07T14:06:09.561632",
     "status": "completed"
    },
    "tags": []
   },
   "outputs": [
    {
     "name": "stdout",
     "output_type": "stream",
     "text": [
      "Confusion Martix:\n",
      "[[29 12]\n",
      " [13 37]]\n"
     ]
    }
   ],
   "source": [
    "# Confusion Martix\n",
    "y_pred = rf.predict(x_test)\n",
    "y_true = y_test\n",
    "cm = confusion_matrix(y_true,y_pred)\n",
    "print(\"Confusion Martix:\")\n",
    "print(cm)"
   ]
  }
 ],
 "metadata": {
  "kernelspec": {
   "display_name": "Python 3",
   "language": "python",
   "name": "python3"
  },
  "language_info": {
   "codemirror_mode": {
    "name": "ipython",
    "version": 3
   },
   "file_extension": ".py",
   "mimetype": "text/x-python",
   "name": "python",
   "nbconvert_exporter": "python",
   "pygments_lexer": "ipython3",
   "version": "3.7.6"
  },
  "papermill": {
   "duration": 10.365871,
   "end_time": "2020-10-07T14:06:09.780091",
   "environment_variables": {},
   "exception": null,
   "input_path": "__notebook__.ipynb",
   "output_path": "__notebook__.ipynb",
   "parameters": {},
   "start_time": "2020-10-07T14:05:59.414220",
   "version": "2.1.0"
  }
 },
 "nbformat": 4,
 "nbformat_minor": 4
}
