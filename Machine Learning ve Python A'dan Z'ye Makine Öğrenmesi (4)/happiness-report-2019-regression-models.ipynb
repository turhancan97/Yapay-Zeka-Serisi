{
 "cells": [
  {
   "cell_type": "markdown",
   "metadata": {
    "papermill": {
     "duration": 0.019686,
     "end_time": "2020-09-26T14:54:11.927011",
     "exception": false,
     "start_time": "2020-09-26T14:54:11.907325",
     "status": "completed"
    },
    "tags": []
   },
   "source": [
    "## Happiness 2019\n",
    "\n",
    "In the dataset we will observe happiness 2019 dataset. This dataset gives the happiness rank and happiness score of 156 countries around the world based on six factors including GDP per capita, Social support, Healthy life expectancy, Freedom to make life choices, Generosity, Perceptions of corruption. Sum of the value of these six factors gives us the happiness score and the higher the happiness score, the lower the happiness rank. So, it is evident that the higher value of each of these six factors means the level of happiness is higher. We can define the meaning of these factors as the extent to which these factors lead to happiness."
   ]
  },
  {
   "cell_type": "code",
   "execution_count": 1,
   "metadata": {
    "_cell_guid": "b1076dfc-b9ad-4769-8c92-a6c4dae69d19",
    "_uuid": "8f2839f25d086af736a60e9eeb907d3b93b6e0e5",
    "execution": {
     "iopub.execute_input": "2020-09-26T14:54:11.975992Z",
     "iopub.status.busy": "2020-09-26T14:54:11.974903Z",
     "iopub.status.idle": "2020-09-26T14:54:13.336468Z",
     "shell.execute_reply": "2020-09-26T14:54:13.336973Z"
    },
    "papermill": {
     "duration": 1.389041,
     "end_time": "2020-09-26T14:54:13.337149",
     "exception": false,
     "start_time": "2020-09-26T14:54:11.948108",
     "status": "completed"
    },
    "tags": []
   },
   "outputs": [
    {
     "name": "stdout",
     "output_type": "stream",
     "text": [
      "/kaggle/input/world-happiness/2015.csv\n",
      "/kaggle/input/world-happiness/2017.csv\n",
      "/kaggle/input/world-happiness/2016.csv\n",
      "/kaggle/input/world-happiness/2018.csv\n",
      "/kaggle/input/world-happiness/2019.csv\n"
     ]
    }
   ],
   "source": [
    "# Import all libraries we need\n",
    "import numpy as np # linear algebra\n",
    "import pandas as pd # data processing, CSV file I/O (e.g. pd.read_csv)\n",
    "import matplotlib.pyplot as plt # Visualization\n",
    "# sklearn library\n",
    "from sklearn.linear_model import LinearRegression\n",
    "from sklearn.preprocessing import PolynomialFeatures\n",
    "from sklearn.tree import DecisionTreeRegressor\n",
    "from sklearn.ensemble import RandomForestRegressor\n",
    "# Evaluation Metric\n",
    "from sklearn.metrics import r2_score\n",
    "\n",
    "import os\n",
    "for dirname, _, filenames in os.walk('/kaggle/input'):\n",
    "    for filename in filenames:\n",
    "        print(os.path.join(dirname, filename))"
   ]
  },
  {
   "cell_type": "code",
   "execution_count": 2,
   "metadata": {
    "_cell_guid": "79c7e3d0-c299-4dcb-8224-4455121ee9b0",
    "_uuid": "d629ff2d2480ee46fbb7e2d37f6b5fab8052498a",
    "execution": {
     "iopub.execute_input": "2020-09-26T14:54:13.386642Z",
     "iopub.status.busy": "2020-09-26T14:54:13.385873Z",
     "iopub.status.idle": "2020-09-26T14:54:13.419194Z",
     "shell.execute_reply": "2020-09-26T14:54:13.418667Z"
    },
    "papermill": {
     "duration": 0.06121,
     "end_time": "2020-09-26T14:54:13.419310",
     "exception": false,
     "start_time": "2020-09-26T14:54:13.358100",
     "status": "completed"
    },
    "tags": []
   },
   "outputs": [
    {
     "data": {
      "text/html": [
       "<div>\n",
       "<style scoped>\n",
       "    .dataframe tbody tr th:only-of-type {\n",
       "        vertical-align: middle;\n",
       "    }\n",
       "\n",
       "    .dataframe tbody tr th {\n",
       "        vertical-align: top;\n",
       "    }\n",
       "\n",
       "    .dataframe thead th {\n",
       "        text-align: right;\n",
       "    }\n",
       "</style>\n",
       "<table border=\"1\" class=\"dataframe\">\n",
       "  <thead>\n",
       "    <tr style=\"text-align: right;\">\n",
       "      <th></th>\n",
       "      <th>Overall rank</th>\n",
       "      <th>Country or region</th>\n",
       "      <th>Score</th>\n",
       "      <th>GDP per capita</th>\n",
       "      <th>Social support</th>\n",
       "      <th>Healthy life expectancy</th>\n",
       "      <th>Freedom to make life choices</th>\n",
       "      <th>Generosity</th>\n",
       "      <th>Perceptions of corruption</th>\n",
       "    </tr>\n",
       "  </thead>\n",
       "  <tbody>\n",
       "    <tr>\n",
       "      <th>0</th>\n",
       "      <td>1</td>\n",
       "      <td>Finland</td>\n",
       "      <td>7.769</td>\n",
       "      <td>1.340</td>\n",
       "      <td>1.587</td>\n",
       "      <td>0.986</td>\n",
       "      <td>0.596</td>\n",
       "      <td>0.153</td>\n",
       "      <td>0.393</td>\n",
       "    </tr>\n",
       "    <tr>\n",
       "      <th>1</th>\n",
       "      <td>2</td>\n",
       "      <td>Denmark</td>\n",
       "      <td>7.600</td>\n",
       "      <td>1.383</td>\n",
       "      <td>1.573</td>\n",
       "      <td>0.996</td>\n",
       "      <td>0.592</td>\n",
       "      <td>0.252</td>\n",
       "      <td>0.410</td>\n",
       "    </tr>\n",
       "    <tr>\n",
       "      <th>2</th>\n",
       "      <td>3</td>\n",
       "      <td>Norway</td>\n",
       "      <td>7.554</td>\n",
       "      <td>1.488</td>\n",
       "      <td>1.582</td>\n",
       "      <td>1.028</td>\n",
       "      <td>0.603</td>\n",
       "      <td>0.271</td>\n",
       "      <td>0.341</td>\n",
       "    </tr>\n",
       "    <tr>\n",
       "      <th>3</th>\n",
       "      <td>4</td>\n",
       "      <td>Iceland</td>\n",
       "      <td>7.494</td>\n",
       "      <td>1.380</td>\n",
       "      <td>1.624</td>\n",
       "      <td>1.026</td>\n",
       "      <td>0.591</td>\n",
       "      <td>0.354</td>\n",
       "      <td>0.118</td>\n",
       "    </tr>\n",
       "    <tr>\n",
       "      <th>4</th>\n",
       "      <td>5</td>\n",
       "      <td>Netherlands</td>\n",
       "      <td>7.488</td>\n",
       "      <td>1.396</td>\n",
       "      <td>1.522</td>\n",
       "      <td>0.999</td>\n",
       "      <td>0.557</td>\n",
       "      <td>0.322</td>\n",
       "      <td>0.298</td>\n",
       "    </tr>\n",
       "  </tbody>\n",
       "</table>\n",
       "</div>"
      ],
      "text/plain": [
       "   Overall rank Country or region  Score  GDP per capita  Social support  \\\n",
       "0             1           Finland  7.769           1.340           1.587   \n",
       "1             2           Denmark  7.600           1.383           1.573   \n",
       "2             3            Norway  7.554           1.488           1.582   \n",
       "3             4           Iceland  7.494           1.380           1.624   \n",
       "4             5       Netherlands  7.488           1.396           1.522   \n",
       "\n",
       "   Healthy life expectancy  Freedom to make life choices  Generosity  \\\n",
       "0                    0.986                         0.596       0.153   \n",
       "1                    0.996                         0.592       0.252   \n",
       "2                    1.028                         0.603       0.271   \n",
       "3                    1.026                         0.591       0.354   \n",
       "4                    0.999                         0.557       0.322   \n",
       "\n",
       "   Perceptions of corruption  \n",
       "0                      0.393  \n",
       "1                      0.410  \n",
       "2                      0.341  \n",
       "3                      0.118  \n",
       "4                      0.298  "
      ]
     },
     "execution_count": 2,
     "metadata": {},
     "output_type": "execute_result"
    }
   ],
   "source": [
    "df = pd.read_csv(\"/kaggle/input/world-happiness/2019.csv\")\n",
    "df.head()"
   ]
  },
  {
   "cell_type": "code",
   "execution_count": 3,
   "metadata": {
    "execution": {
     "iopub.execute_input": "2020-09-26T14:54:13.478090Z",
     "iopub.status.busy": "2020-09-26T14:54:13.477343Z",
     "iopub.status.idle": "2020-09-26T14:54:13.480601Z",
     "shell.execute_reply": "2020-09-26T14:54:13.481218Z"
    },
    "papermill": {
     "duration": 0.042216,
     "end_time": "2020-09-26T14:54:13.481372",
     "exception": false,
     "start_time": "2020-09-26T14:54:13.439156",
     "status": "completed"
    },
    "tags": []
   },
   "outputs": [
    {
     "name": "stdout",
     "output_type": "stream",
     "text": [
      "<class 'pandas.core.frame.DataFrame'>\n",
      "RangeIndex: 156 entries, 0 to 155\n",
      "Data columns (total 9 columns):\n",
      " #   Column                        Non-Null Count  Dtype  \n",
      "---  ------                        --------------  -----  \n",
      " 0   Overall rank                  156 non-null    int64  \n",
      " 1   Country or region             156 non-null    object \n",
      " 2   Score                         156 non-null    float64\n",
      " 3   GDP per capita                156 non-null    float64\n",
      " 4   Social support                156 non-null    float64\n",
      " 5   Healthy life expectancy       156 non-null    float64\n",
      " 6   Freedom to make life choices  156 non-null    float64\n",
      " 7   Generosity                    156 non-null    float64\n",
      " 8   Perceptions of corruption     156 non-null    float64\n",
      "dtypes: float64(7), int64(1), object(1)\n",
      "memory usage: 11.1+ KB\n"
     ]
    }
   ],
   "source": [
    "df.info()"
   ]
  },
  {
   "cell_type": "code",
   "execution_count": 4,
   "metadata": {
    "execution": {
     "iopub.execute_input": "2020-09-26T14:54:13.533175Z",
     "iopub.status.busy": "2020-09-26T14:54:13.532549Z",
     "iopub.status.idle": "2020-09-26T14:54:13.804270Z",
     "shell.execute_reply": "2020-09-26T14:54:13.803685Z"
    },
    "papermill": {
     "duration": 0.299518,
     "end_time": "2020-09-26T14:54:13.804399",
     "exception": false,
     "start_time": "2020-09-26T14:54:13.504881",
     "status": "completed"
    },
    "tags": []
   },
   "outputs": [
    {
     "data": {
      "image/png": "[encoded data removed]",
      "text/plain": [
       "<Figure size 432x288 with 1 Axes>"
      ]
     },
     "metadata": {
      "needs_background": "light"
     },
     "output_type": "display_data"
    }
   ],
   "source": [
    "# plot data\n",
    "plt.scatter(df[\"Social support\"],df[\"Score\"])\n",
    "plt.xlabel(\"Social Support\")\n",
    "plt.ylabel(\"Score\")\n",
    "plt.show()\n"
   ]
  },
  {
   "cell_type": "markdown",
   "metadata": {
    "papermill": {
     "duration": 0.021049,
     "end_time": "2020-09-26T14:54:13.846780",
     "exception": false,
     "start_time": "2020-09-26T14:54:13.825731",
     "status": "completed"
    },
    "tags": []
   },
   "source": [
    "## Linear Regression"
   ]
  },
  {
   "cell_type": "code",
   "execution_count": 5,
   "metadata": {
    "execution": {
     "iopub.execute_input": "2020-09-26T14:54:13.912714Z",
     "iopub.status.busy": "2020-09-26T14:54:13.911912Z",
     "iopub.status.idle": "2020-09-26T14:54:13.939743Z",
     "shell.execute_reply": "2020-09-26T14:54:13.940265Z"
    },
    "papermill": {
     "duration": 0.070877,
     "end_time": "2020-09-26T14:54:13.940408",
     "exception": false,
     "start_time": "2020-09-26T14:54:13.869531",
     "status": "completed"
    },
    "tags": []
   },
   "outputs": [
    {
     "data": {
      "text/plain": [
       "LinearRegression()"
      ]
     },
     "execution_count": 5,
     "metadata": {},
     "output_type": "execute_result"
    }
   ],
   "source": [
    "# linear regression model\n",
    "linear_reg = LinearRegression()\n",
    "\n",
    "x = df[\"Social support\"].values.reshape(-1,1)\n",
    "y = df[\"Score\"].values.reshape(-1,1)\n",
    "\n",
    "linear_reg.fit(x,y)"
   ]
  },
  {
   "cell_type": "markdown",
   "metadata": {
    "papermill": {
     "duration": 0.021272,
     "end_time": "2020-09-26T14:54:13.983209",
     "exception": false,
     "start_time": "2020-09-26T14:54:13.961937",
     "status": "completed"
    },
    "tags": []
   },
   "source": [
    "### Prediction"
   ]
  },
  {
   "cell_type": "code",
   "execution_count": 6,
   "metadata": {
    "execution": {
     "iopub.execute_input": "2020-09-26T14:54:14.038251Z",
     "iopub.status.busy": "2020-09-26T14:54:14.037154Z",
     "iopub.status.idle": "2020-09-26T14:54:14.043213Z",
     "shell.execute_reply": "2020-09-26T14:54:14.043815Z"
    },
    "papermill": {
     "duration": 0.038998,
     "end_time": "2020-09-26T14:54:14.043972",
     "exception": false,
     "start_time": "2020-09-26T14:54:14.004974",
     "status": "completed"
    },
    "tags": []
   },
   "outputs": [
    {
     "name": "stdout",
     "output_type": "stream",
     "text": [
      "Predicted Score 1:  [[6.24891081]]\n",
      "Predicted Score 2:  [[3.35792377]]\n",
      "Predicted Score 3:  [[7.11620692]]\n",
      "intercept:  [1.91243024]\n",
      "slope:  [[2.89098704]]\n"
     ]
    }
   ],
   "source": [
    "Predicted_Score1 = linear_reg.predict([[1.5]])\n",
    "print(\"Predicted Score 1: \",Predicted_Score1)\n",
    "\n",
    "Predicted_Score2 = linear_reg.predict([[0.5]])\n",
    "print(\"Predicted Score 2: \",Predicted_Score2)\n",
    "\n",
    "Predicted_Score3 = linear_reg.predict([[1.8]])\n",
    "print(\"Predicted Score 3: \",Predicted_Score3)\n",
    "\n",
    "intercept = linear_reg.intercept_\n",
    "print(\"intercept: \",intercept)   # y eksenini kestigi nokta intercept\n",
    "\n",
    "slope = linear_reg.coef_\n",
    "print(\"slope: \",slope)   # egim slope\n",
    "\n",
    "# Score = 1.91243024 + 2.89098704*Social Support \n",
    "\n"
   ]
  },
  {
   "cell_type": "markdown",
   "metadata": {
    "papermill": {
     "duration": 0.025451,
     "end_time": "2020-09-26T14:54:14.093132",
     "exception": false,
     "start_time": "2020-09-26T14:54:14.067681",
     "status": "completed"
    },
    "tags": []
   },
   "source": [
    "### Visualization"
   ]
  },
  {
   "cell_type": "code",
   "execution_count": 7,
   "metadata": {
    "execution": {
     "iopub.execute_input": "2020-09-26T14:54:14.158843Z",
     "iopub.status.busy": "2020-09-26T14:54:14.156822Z",
     "iopub.status.idle": "2020-09-26T14:54:14.336504Z",
     "shell.execute_reply": "2020-09-26T14:54:14.337049Z"
    },
    "papermill": {
     "duration": 0.218781,
     "end_time": "2020-09-26T14:54:14.337193",
     "exception": false,
     "start_time": "2020-09-26T14:54:14.118412",
     "status": "completed"
    },
    "tags": []
   },
   "outputs": [
    {
     "data": {
      "image/png": "[encoded data removed]",
      "text/plain": [
       "<Figure size 432x288 with 1 Axes>"
      ]
     },
     "metadata": {
      "needs_background": "light"
     },
     "output_type": "display_data"
    },
    {
     "name": "stdout",
     "output_type": "stream",
     "text": [
      "r_score:  0.6038188059907054\n"
     ]
    }
   ],
   "source": [
    "y_predicted = linear_reg.predict(x)\n",
    "plt.scatter(x,y)\n",
    "plt.plot(x, y_predicted,color = \"red\")\n",
    "plt.xlabel(\"Social Support\")\n",
    "plt.ylabel(\"Score\")\n",
    "plt.title(\"Linear Regression\")\n",
    "plt.show()\n",
    "print(\"r_score: \", r2_score(y,y_predicted))"
   ]
  },
  {
   "cell_type": "markdown",
   "metadata": {
    "papermill": {
     "duration": 0.023353,
     "end_time": "2020-09-26T14:54:14.384130",
     "exception": false,
     "start_time": "2020-09-26T14:54:14.360777",
     "status": "completed"
    },
    "tags": []
   },
   "source": [
    "## Multiple Linear Regression"
   ]
  },
  {
   "cell_type": "code",
   "execution_count": 8,
   "metadata": {
    "execution": {
     "iopub.execute_input": "2020-09-26T14:54:14.449031Z",
     "iopub.status.busy": "2020-09-26T14:54:14.447130Z",
     "iopub.status.idle": "2020-09-26T14:54:14.453292Z",
     "shell.execute_reply": "2020-09-26T14:54:14.453791Z"
    },
    "papermill": {
     "duration": 0.046018,
     "end_time": "2020-09-26T14:54:14.453933",
     "exception": false,
     "start_time": "2020-09-26T14:54:14.407915",
     "status": "completed"
    },
    "tags": []
   },
   "outputs": [
    {
     "data": {
      "text/plain": [
       "LinearRegression()"
      ]
     },
     "execution_count": 8,
     "metadata": {},
     "output_type": "execute_result"
    }
   ],
   "source": [
    "# Multiple Linear Regression Model\n",
    "x = df.iloc[:,3:].values\n",
    "y = df[\"Score\"].values.reshape(-1,1)\n",
    "multiple_linear_regression = LinearRegression()\n",
    "multiple_linear_regression.fit(x,y)"
   ]
  },
  {
   "cell_type": "markdown",
   "metadata": {
    "papermill": {
     "duration": 0.023526,
     "end_time": "2020-09-26T14:54:14.501501",
     "exception": false,
     "start_time": "2020-09-26T14:54:14.477975",
     "status": "completed"
    },
    "tags": []
   },
   "source": [
    "### Prediction"
   ]
  },
  {
   "cell_type": "code",
   "execution_count": 9,
   "metadata": {
    "execution": {
     "iopub.execute_input": "2020-09-26T14:54:14.557185Z",
     "iopub.status.busy": "2020-09-26T14:54:14.556329Z",
     "iopub.status.idle": "2020-09-26T14:54:14.560613Z",
     "shell.execute_reply": "2020-09-26T14:54:14.560095Z"
    },
    "papermill": {
     "duration": 0.035115,
     "end_time": "2020-09-26T14:54:14.560732",
     "exception": false,
     "start_time": "2020-09-26T14:54:14.525617",
     "status": "completed"
    },
    "tags": []
   },
   "outputs": [
    {
     "name": "stdout",
     "output_type": "stream",
     "text": [
      "Intercept:  [1.79522023]\n",
      "b1,b2,b3,b4,b5,b6:  [[0.77537163 1.12419158 1.07814273 1.45483237 0.48978335 0.97228022]]\n"
     ]
    }
   ],
   "source": [
    "print(\"Intercept: \", multiple_linear_regression.intercept_)\n",
    "print(\"b1,b2,b3,b4,b5,b6: \",multiple_linear_regression.coef_)"
   ]
  },
  {
   "cell_type": "code",
   "execution_count": 10,
   "metadata": {
    "execution": {
     "iopub.execute_input": "2020-09-26T14:54:14.618354Z",
     "iopub.status.busy": "2020-09-26T14:54:14.617395Z",
     "iopub.status.idle": "2020-09-26T14:54:14.621852Z",
     "shell.execute_reply": "2020-09-26T14:54:14.621216Z"
    },
    "papermill": {
     "duration": 0.036581,
     "end_time": "2020-09-26T14:54:14.621981",
     "exception": false,
     "start_time": "2020-09-26T14:54:14.585400",
     "status": "completed"
    },
    "tags": []
   },
   "outputs": [
    {
     "data": {
      "text/plain": [
       "array([[7.00548205]])"
      ]
     },
     "execution_count": 10,
     "metadata": {},
     "output_type": "execute_result"
    }
   ],
   "source": [
    "# prediction\n",
    "multiple_linear_regression.predict(np.array([[1.340,1.587,0.986,0.596,0.153,0.393]]))"
   ]
  },
  {
   "cell_type": "markdown",
   "metadata": {
    "papermill": {
     "duration": 0.024531,
     "end_time": "2020-09-26T14:54:14.671857",
     "exception": false,
     "start_time": "2020-09-26T14:54:14.647326",
     "status": "completed"
    },
    "tags": []
   },
   "source": [
    "## Polynomial Regression"
   ]
  },
  {
   "cell_type": "code",
   "execution_count": 11,
   "metadata": {
    "execution": {
     "iopub.execute_input": "2020-09-26T14:54:14.729066Z",
     "iopub.status.busy": "2020-09-26T14:54:14.727910Z",
     "iopub.status.idle": "2020-09-26T14:54:14.741416Z",
     "shell.execute_reply": "2020-09-26T14:54:14.742035Z"
    },
    "papermill": {
     "duration": 0.045406,
     "end_time": "2020-09-26T14:54:14.742193",
     "exception": false,
     "start_time": "2020-09-26T14:54:14.696787",
     "status": "completed"
    },
    "tags": []
   },
   "outputs": [
    {
     "data": {
      "text/html": [
       "<div>\n",
       "<style scoped>\n",
       "    .dataframe tbody tr th:only-of-type {\n",
       "        vertical-align: middle;\n",
       "    }\n",
       "\n",
       "    .dataframe tbody tr th {\n",
       "        vertical-align: top;\n",
       "    }\n",
       "\n",
       "    .dataframe thead th {\n",
       "        text-align: right;\n",
       "    }\n",
       "</style>\n",
       "<table border=\"1\" class=\"dataframe\">\n",
       "  <thead>\n",
       "    <tr style=\"text-align: right;\">\n",
       "      <th></th>\n",
       "      <th>Overall rank</th>\n",
       "      <th>Country or region</th>\n",
       "      <th>Score</th>\n",
       "      <th>GDP per capita</th>\n",
       "      <th>Social support</th>\n",
       "      <th>Healthy life expectancy</th>\n",
       "      <th>Freedom to make life choices</th>\n",
       "      <th>Generosity</th>\n",
       "      <th>Perceptions of corruption</th>\n",
       "    </tr>\n",
       "  </thead>\n",
       "  <tbody>\n",
       "    <tr>\n",
       "      <th>0</th>\n",
       "      <td>1</td>\n",
       "      <td>Finland</td>\n",
       "      <td>7.769</td>\n",
       "      <td>1.340</td>\n",
       "      <td>1.587</td>\n",
       "      <td>0.986</td>\n",
       "      <td>0.596</td>\n",
       "      <td>0.153</td>\n",
       "      <td>0.393</td>\n",
       "    </tr>\n",
       "    <tr>\n",
       "      <th>1</th>\n",
       "      <td>2</td>\n",
       "      <td>Denmark</td>\n",
       "      <td>7.600</td>\n",
       "      <td>1.383</td>\n",
       "      <td>1.573</td>\n",
       "      <td>0.996</td>\n",
       "      <td>0.592</td>\n",
       "      <td>0.252</td>\n",
       "      <td>0.410</td>\n",
       "    </tr>\n",
       "    <tr>\n",
       "      <th>2</th>\n",
       "      <td>3</td>\n",
       "      <td>Norway</td>\n",
       "      <td>7.554</td>\n",
       "      <td>1.488</td>\n",
       "      <td>1.582</td>\n",
       "      <td>1.028</td>\n",
       "      <td>0.603</td>\n",
       "      <td>0.271</td>\n",
       "      <td>0.341</td>\n",
       "    </tr>\n",
       "    <tr>\n",
       "      <th>3</th>\n",
       "      <td>4</td>\n",
       "      <td>Iceland</td>\n",
       "      <td>7.494</td>\n",
       "      <td>1.380</td>\n",
       "      <td>1.624</td>\n",
       "      <td>1.026</td>\n",
       "      <td>0.591</td>\n",
       "      <td>0.354</td>\n",
       "      <td>0.118</td>\n",
       "    </tr>\n",
       "    <tr>\n",
       "      <th>4</th>\n",
       "      <td>5</td>\n",
       "      <td>Netherlands</td>\n",
       "      <td>7.488</td>\n",
       "      <td>1.396</td>\n",
       "      <td>1.522</td>\n",
       "      <td>0.999</td>\n",
       "      <td>0.557</td>\n",
       "      <td>0.322</td>\n",
       "      <td>0.298</td>\n",
       "    </tr>\n",
       "  </tbody>\n",
       "</table>\n",
       "</div>"
      ],
      "text/plain": [
       "   Overall rank Country or region  Score  GDP per capita  Social support  \\\n",
       "0             1           Finland  7.769           1.340           1.587   \n",
       "1             2           Denmark  7.600           1.383           1.573   \n",
       "2             3            Norway  7.554           1.488           1.582   \n",
       "3             4           Iceland  7.494           1.380           1.624   \n",
       "4             5       Netherlands  7.488           1.396           1.522   \n",
       "\n",
       "   Healthy life expectancy  Freedom to make life choices  Generosity  \\\n",
       "0                    0.986                         0.596       0.153   \n",
       "1                    0.996                         0.592       0.252   \n",
       "2                    1.028                         0.603       0.271   \n",
       "3                    1.026                         0.591       0.354   \n",
       "4                    0.999                         0.557       0.322   \n",
       "\n",
       "   Perceptions of corruption  \n",
       "0                      0.393  \n",
       "1                      0.410  \n",
       "2                      0.341  \n",
       "3                      0.118  \n",
       "4                      0.298  "
      ]
     },
     "execution_count": 11,
     "metadata": {},
     "output_type": "execute_result"
    }
   ],
   "source": [
    "df.head()"
   ]
  },
  {
   "cell_type": "code",
   "execution_count": 12,
   "metadata": {
    "execution": {
     "iopub.execute_input": "2020-09-26T14:54:14.805086Z",
     "iopub.status.busy": "2020-09-26T14:54:14.803914Z",
     "iopub.status.idle": "2020-09-26T14:54:14.991810Z",
     "shell.execute_reply": "2020-09-26T14:54:14.992390Z"
    },
    "papermill": {
     "duration": 0.22121,
     "end_time": "2020-09-26T14:54:14.992560",
     "exception": false,
     "start_time": "2020-09-26T14:54:14.771350",
     "status": "completed"
    },
    "tags": []
   },
   "outputs": [
    {
     "data": {
      "image/png": "[encoded data removed]",
      "text/plain": [
       "<Figure size 432x288 with 1 Axes>"
      ]
     },
     "metadata": {
      "needs_background": "light"
     },
     "output_type": "display_data"
    }
   ],
   "source": [
    "# plot data\n",
    "plt.scatter(df[\"Social support\"],df[\"Score\"])\n",
    "plt.xlabel(\"Social support\")\n",
    "plt.ylabel(\"Score\")\n",
    "plt.show()"
   ]
  },
  {
   "cell_type": "code",
   "execution_count": 13,
   "metadata": {
    "execution": {
     "iopub.execute_input": "2020-09-26T14:54:15.055015Z",
     "iopub.status.busy": "2020-09-26T14:54:15.053927Z",
     "iopub.status.idle": "2020-09-26T14:54:15.059054Z",
     "shell.execute_reply": "2020-09-26T14:54:15.059560Z"
    },
    "papermill": {
     "duration": 0.036346,
     "end_time": "2020-09-26T14:54:15.059714",
     "exception": false,
     "start_time": "2020-09-26T14:54:15.023368",
     "status": "completed"
    },
    "tags": []
   },
   "outputs": [],
   "source": [
    "x = df[\"Healthy life expectancy\"].values.reshape(-1,1)\n",
    "y = df[\"Score\"].values.reshape(-1,1)"
   ]
  },
  {
   "cell_type": "code",
   "execution_count": 14,
   "metadata": {
    "execution": {
     "iopub.execute_input": "2020-09-26T14:54:15.118969Z",
     "iopub.status.busy": "2020-09-26T14:54:15.117976Z",
     "iopub.status.idle": "2020-09-26T14:54:15.369598Z",
     "shell.execute_reply": "2020-09-26T14:54:15.370187Z"
    },
    "papermill": {
     "duration": 0.28275,
     "end_time": "2020-09-26T14:54:15.370346",
     "exception": false,
     "start_time": "2020-09-26T14:54:15.087596",
     "status": "completed"
    },
    "tags": []
   },
   "outputs": [
    {
     "data": {
      "image/png": "[encoded data removed]",
      "text/plain": [
       "<Figure size 432x288 with 1 Axes>"
      ]
     },
     "metadata": {
      "needs_background": "light"
     },
     "output_type": "display_data"
    }
   ],
   "source": [
    "lr = LinearRegression()\n",
    "lr.fit(x,y)\n",
    "y_head = lr.predict(x)\n",
    "plt.scatter(df[\"Healthy life expectancy\"],df[\"Score\"])\n",
    "plt.xlabel(\"Healthy life expectancy\")\n",
    "plt.ylabel(\"Score\")\n",
    "plt.plot(x,y_head,color=\"red\",label =\"linear\")\n",
    "plt.show()"
   ]
  },
  {
   "cell_type": "code",
   "execution_count": 15,
   "metadata": {
    "execution": {
     "iopub.execute_input": "2020-09-26T14:54:15.437746Z",
     "iopub.status.busy": "2020-09-26T14:54:15.436591Z",
     "iopub.status.idle": "2020-09-26T14:54:15.447441Z",
     "shell.execute_reply": "2020-09-26T14:54:15.446840Z"
    },
    "papermill": {
     "duration": 0.045732,
     "end_time": "2020-09-26T14:54:15.447555",
     "exception": false,
     "start_time": "2020-09-26T14:54:15.401823",
     "status": "completed"
    },
    "tags": []
   },
   "outputs": [
    {
     "data": {
      "text/plain": [
       "LinearRegression()"
      ]
     },
     "execution_count": 15,
     "metadata": {},
     "output_type": "execute_result"
    }
   ],
   "source": [
    "polynomial_regression = PolynomialFeatures(degree = 2)\n",
    "x_polynomial = polynomial_regression.fit_transform(x)\n",
    "linear_regression2 = LinearRegression()\n",
    "linear_regression2.fit(x_polynomial,y)"
   ]
  },
  {
   "cell_type": "markdown",
   "metadata": {
    "papermill": {
     "duration": 0.028047,
     "end_time": "2020-09-26T14:54:15.504392",
     "exception": false,
     "start_time": "2020-09-26T14:54:15.476345",
     "status": "completed"
    },
    "tags": []
   },
   "source": [
    "### Visualization"
   ]
  },
  {
   "cell_type": "code",
   "execution_count": 16,
   "metadata": {
    "execution": {
     "iopub.execute_input": "2020-09-26T14:54:15.575758Z",
     "iopub.status.busy": "2020-09-26T14:54:15.574520Z",
     "iopub.status.idle": "2020-09-26T14:54:15.759318Z",
     "shell.execute_reply": "2020-09-26T14:54:15.758735Z"
    },
    "papermill": {
     "duration": 0.226559,
     "end_time": "2020-09-26T14:54:15.759481",
     "exception": false,
     "start_time": "2020-09-26T14:54:15.532922",
     "status": "completed"
    },
    "tags": []
   },
   "outputs": [
    {
     "data": {
      "image/png": "[encoded data removed]",
      "text/plain": [
       "<Figure size 432x288 with 1 Axes>"
      ]
     },
     "metadata": {
      "needs_background": "light"
     },
     "output_type": "display_data"
    },
    {
     "name": "stdout",
     "output_type": "stream",
     "text": [
      "r_square score:  0.643517048077236\n"
     ]
    }
   ],
   "source": [
    "y_head2 = linear_regression2.predict(x_polynomial)\n",
    "plt.scatter(df[\"Healthy life expectancy\"],df[\"Score\"])\n",
    "plt.xlabel(\"Healthy life expectancy\")\n",
    "plt.ylabel(\"Score\")\n",
    "plt.plot(x,y_head2,color= \"green\",label = \"poly\")\n",
    "plt.title(\"Polynomial Regression\")\n",
    "plt.legend()\n",
    "plt.show()\n",
    "print(\"r_square score: \", r2_score(y,y_head2))"
   ]
  },
  {
   "cell_type": "markdown",
   "metadata": {
    "papermill": {
     "duration": 0.031109,
     "end_time": "2020-09-26T14:54:15.821747",
     "exception": false,
     "start_time": "2020-09-26T14:54:15.790638",
     "status": "completed"
    },
    "tags": []
   },
   "source": [
    "## Decision Tree"
   ]
  },
  {
   "cell_type": "code",
   "execution_count": 17,
   "metadata": {
    "execution": {
     "iopub.execute_input": "2020-09-26T14:54:15.892565Z",
     "iopub.status.busy": "2020-09-26T14:54:15.891885Z",
     "iopub.status.idle": "2020-09-26T14:54:15.893912Z",
     "shell.execute_reply": "2020-09-26T14:54:15.894419Z"
    },
    "papermill": {
     "duration": 0.038486,
     "end_time": "2020-09-26T14:54:15.894567",
     "exception": false,
     "start_time": "2020-09-26T14:54:15.856081",
     "status": "completed"
    },
    "tags": []
   },
   "outputs": [],
   "source": [
    "x = df[\"GDP per capita\"].values.reshape(-1,1)\n",
    "y = df[\"Score\"].values.reshape(-1,1)"
   ]
  },
  {
   "cell_type": "code",
   "execution_count": 18,
   "metadata": {
    "execution": {
     "iopub.execute_input": "2020-09-26T14:54:15.958173Z",
     "iopub.status.busy": "2020-09-26T14:54:15.957533Z",
     "iopub.status.idle": "2020-09-26T14:54:15.966561Z",
     "shell.execute_reply": "2020-09-26T14:54:15.965902Z"
    },
    "papermill": {
     "duration": 0.042155,
     "end_time": "2020-09-26T14:54:15.966698",
     "exception": false,
     "start_time": "2020-09-26T14:54:15.924543",
     "status": "completed"
    },
    "tags": []
   },
   "outputs": [],
   "source": [
    "tree_reg = DecisionTreeRegressor()\n",
    "tree_reg.fit(x,y)\n",
    "tree_reg.predict([[1.2]])\n",
    "x_ = np.arange(min(x),max(x),0.1).reshape(-1,1)\n",
    "y_head = tree_reg.predict(x_)"
   ]
  },
  {
   "cell_type": "code",
   "execution_count": 19,
   "metadata": {
    "execution": {
     "iopub.execute_input": "2020-09-26T14:54:16.040989Z",
     "iopub.status.busy": "2020-09-26T14:54:16.040168Z",
     "iopub.status.idle": "2020-09-26T14:54:16.208281Z",
     "shell.execute_reply": "2020-09-26T14:54:16.208831Z"
    },
    "papermill": {
     "duration": 0.21167,
     "end_time": "2020-09-26T14:54:16.208991",
     "exception": false,
     "start_time": "2020-09-26T14:54:15.997321",
     "status": "completed"
    },
    "tags": []
   },
   "outputs": [
    {
     "data": {
      "image/png": "[encoded data removed]",
      "text/plain": [
       "<Figure size 432x288 with 1 Axes>"
      ]
     },
     "metadata": {
      "needs_background": "light"
     },
     "output_type": "display_data"
    }
   ],
   "source": [
    "# visualize\n",
    "plt.scatter(x,y,color=\"red\")\n",
    "plt.plot(x_,y_head,color = \"green\")\n",
    "plt.xlabel(\"GDP per capita\")\n",
    "plt.ylabel(\"Score\")\n",
    "plt.title(\"Decision Tree\")\n",
    "plt.show()"
   ]
  },
  {
   "cell_type": "markdown",
   "metadata": {
    "papermill": {
     "duration": 0.031385,
     "end_time": "2020-09-26T14:54:16.272028",
     "exception": false,
     "start_time": "2020-09-26T14:54:16.240643",
     "status": "completed"
    },
    "tags": []
   },
   "source": [
    "## Random Forest"
   ]
  },
  {
   "cell_type": "code",
   "execution_count": 20,
   "metadata": {
    "execution": {
     "iopub.execute_input": "2020-09-26T14:54:16.340856Z",
     "iopub.status.busy": "2020-09-26T14:54:16.340206Z",
     "iopub.status.idle": "2020-09-26T14:54:16.343082Z",
     "shell.execute_reply": "2020-09-26T14:54:16.343609Z"
    },
    "papermill": {
     "duration": 0.040297,
     "end_time": "2020-09-26T14:54:16.343755",
     "exception": false,
     "start_time": "2020-09-26T14:54:16.303458",
     "status": "completed"
    },
    "tags": []
   },
   "outputs": [],
   "source": [
    "x = df[\"Freedom to make life choices\"].values.reshape(-1,1)\n",
    "y = df[\"Score\"].values.reshape(-1,1)"
   ]
  },
  {
   "cell_type": "code",
   "execution_count": 21,
   "metadata": {
    "execution": {
     "iopub.execute_input": "2020-09-26T14:54:16.429744Z",
     "iopub.status.busy": "2020-09-26T14:54:16.424478Z",
     "iopub.status.idle": "2020-09-26T14:54:16.615208Z",
     "shell.execute_reply": "2020-09-26T14:54:16.614308Z"
    },
    "papermill": {
     "duration": 0.240053,
     "end_time": "2020-09-26T14:54:16.615353",
     "exception": false,
     "start_time": "2020-09-26T14:54:16.375300",
     "status": "completed"
    },
    "tags": []
   },
   "outputs": [
    {
     "name": "stdout",
     "output_type": "stream",
     "text": [
      "Predicted Value = :  [5.40538138]\n"
     ]
    },
    {
     "name": "stderr",
     "output_type": "stream",
     "text": [
      "/opt/conda/lib/python3.7/site-packages/ipykernel_launcher.py:2: DataConversionWarning: A column-vector y was passed when a 1d array was expected. Please change the shape of y to (n_samples,), for example using ravel().\n",
      "  \n"
     ]
    }
   ],
   "source": [
    "rf = RandomForestRegressor(n_estimators = 100, random_state = 42)\n",
    "rf.fit(x,y)\n",
    "print(\"Predicted Value = : \",rf.predict([[0.5]]))\n",
    "x_ = np.arange(min(x),max(x),0.01).reshape(-1,1)\n",
    "y_head = rf.predict(x_)"
   ]
  },
  {
   "cell_type": "code",
   "execution_count": 22,
   "metadata": {
    "execution": {
     "iopub.execute_input": "2020-09-26T14:54:16.700839Z",
     "iopub.status.busy": "2020-09-26T14:54:16.696360Z",
     "iopub.status.idle": "2020-09-26T14:54:16.880761Z",
     "shell.execute_reply": "2020-09-26T14:54:16.880094Z"
    },
    "papermill": {
     "duration": 0.228711,
     "end_time": "2020-09-26T14:54:16.880874",
     "exception": false,
     "start_time": "2020-09-26T14:54:16.652163",
     "status": "completed"
    },
    "tags": []
   },
   "outputs": [
    {
     "data": {
      "image/png": "[encoded data removed]",
      "text/plain": [
       "<Figure size 432x288 with 1 Axes>"
      ]
     },
     "metadata": {
      "needs_background": "light"
     },
     "output_type": "display_data"
    }
   ],
   "source": [
    "# visualize\n",
    "plt.scatter(x,y,color=\"red\")\n",
    "plt.plot(x_,y_head,color=\"green\")\n",
    "plt.xlabel(\"Freedom to make life choices\")\n",
    "plt.ylabel(\"Score\")\n",
    "plt.show()"
   ]
  }
 ],
 "metadata": {
  "kernelspec": {
   "display_name": "Python 3",
   "language": "python",
   "name": "python3"
  },
  "language_info": {
   "codemirror_mode": {
    "name": "ipython",
    "version": 3
   },
   "file_extension": ".py",
   "mimetype": "text/x-python",
   "name": "python",
   "nbconvert_exporter": "python",
   "pygments_lexer": "ipython3",
   "version": "3.7.6"
  },
  "papermill": {
   "duration": 10.015487,
   "end_time": "2020-09-26T14:54:17.048549",
   "environment_variables": {},
   "exception": null,
   "input_path": "__notebook__.ipynb",
   "output_path": "__notebook__.ipynb",
   "parameters": {},
   "start_time": "2020-09-26T14:54:07.033062",
   "version": "2.1.0"
  }
 },
 "nbformat": 4,
 "nbformat_minor": 4
}
