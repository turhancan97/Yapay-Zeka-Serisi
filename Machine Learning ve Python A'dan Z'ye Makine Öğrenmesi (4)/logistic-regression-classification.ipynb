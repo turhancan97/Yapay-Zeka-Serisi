{
 "cells": [
  {
   "cell_type": "markdown",
   "metadata": {
    "papermill": {
     "duration": 0.022787,
     "end_time": "2020-10-03T21:52:22.593527",
     "exception": false,
     "start_time": "2020-10-03T21:52:22.570740",
     "status": "completed"
    },
    "tags": []
   },
   "source": [
    "This notebook was prepared with the help of DATAI Team Machine Learning Udemy Course and DATAI Team Deep Learning Tutorial for Beginners Notebook on Kaggle.\n",
    "\n",
    "# Red Wine Quality \n",
    "### Input variables (based on physicochemical tests):\n",
    "* fixed acidity\n",
    "* volatile acidity\n",
    "* citric acid\n",
    "* residual sugar\n",
    "* chlorides\n",
    "* free sulfur dioxide\n",
    "* total sulfur dioxide\n",
    "* density\n",
    "* pH\n",
    "* sulphates\n",
    "* alcohol\n",
    "\n",
    "\n",
    "### Output variable (based on sensory data):\n",
    "* quality (score between 0 and 10)"
   ]
  },
  {
   "cell_type": "code",
   "execution_count": 1,
   "metadata": {
    "_cell_guid": "b1076dfc-b9ad-4769-8c92-a6c4dae69d19",
    "_uuid": "8f2839f25d086af736a60e9eeb907d3b93b6e0e5",
    "execution": {
     "iopub.execute_input": "2020-10-03T21:52:22.649016Z",
     "iopub.status.busy": "2020-10-03T21:52:22.648007Z",
     "iopub.status.idle": "2020-10-03T21:52:23.846873Z",
     "shell.execute_reply": "2020-10-03T21:52:23.848517Z"
    },
    "papermill": {
     "duration": 1.23294,
     "end_time": "2020-10-03T21:52:23.848777",
     "exception": false,
     "start_time": "2020-10-03T21:52:22.615837",
     "status": "completed"
    },
    "tags": []
   },
   "outputs": [
    {
     "name": "stdout",
     "output_type": "stream",
     "text": [
      "/kaggle/input/red-wine-quality-cortez-et-al-2009/winequality-red.csv\n"
     ]
    }
   ],
   "source": [
    "# Necessary Libraries\n",
    "import numpy as np # linear algebra\n",
    "import pandas as pd # data processing, CSV file I/O (e.g. pd.read_csv)\n",
    "import matplotlib.pyplot as plt # For plot\n",
    "from sklearn.model_selection import train_test_split # For splitting data as train and test\n",
    "from sklearn.linear_model import LogisticRegression # Sklearn library - Logistic Regression\n",
    "\n",
    "import os\n",
    "for dirname, _, filenames in os.walk('/kaggle/input'):\n",
    "    for filename in filenames:\n",
    "        print(os.path.join(dirname, filename))"
   ]
  },
  {
   "cell_type": "markdown",
   "metadata": {
    "papermill": {
     "duration": 0.021893,
     "end_time": "2020-10-03T21:52:23.893717",
     "exception": false,
     "start_time": "2020-10-03T21:52:23.871824",
     "status": "completed"
    },
    "tags": []
   },
   "source": [
    "# Logistic Regression\n",
    "* Logistic Regression can be used as classification model when we talk about binary classification (0 and 1 outputs).\n",
    "* Logistic regression is actually a very simple neural network."
   ]
  },
  {
   "cell_type": "code",
   "execution_count": 2,
   "metadata": {
    "_cell_guid": "79c7e3d0-c299-4dcb-8224-4455121ee9b0",
    "_uuid": "d629ff2d2480ee46fbb7e2d37f6b5fab8052498a",
    "execution": {
     "iopub.execute_input": "2020-10-03T21:52:23.947832Z",
     "iopub.status.busy": "2020-10-03T21:52:23.946938Z",
     "iopub.status.idle": "2020-10-03T21:52:23.989759Z",
     "shell.execute_reply": "2020-10-03T21:52:23.988993Z"
    },
    "papermill": {
     "duration": 0.071737,
     "end_time": "2020-10-03T21:52:23.989886",
     "exception": false,
     "start_time": "2020-10-03T21:52:23.918149",
     "status": "completed"
    },
    "tags": []
   },
   "outputs": [
    {
     "data": {
      "text/html": [
       "<div>\n",
       "<style scoped>\n",
       "    .dataframe tbody tr th:only-of-type {\n",
       "        vertical-align: middle;\n",
       "    }\n",
       "\n",
       "    .dataframe tbody tr th {\n",
       "        vertical-align: top;\n",
       "    }\n",
       "\n",
       "    .dataframe thead th {\n",
       "        text-align: right;\n",
       "    }\n",
       "</style>\n",
       "<table border=\"1\" class=\"dataframe\">\n",
       "  <thead>\n",
       "    <tr style=\"text-align: right;\">\n",
       "      <th></th>\n",
       "      <th>fixed acidity</th>\n",
       "      <th>volatile acidity</th>\n",
       "      <th>citric acid</th>\n",
       "      <th>residual sugar</th>\n",
       "      <th>chlorides</th>\n",
       "      <th>free sulfur dioxide</th>\n",
       "      <th>total sulfur dioxide</th>\n",
       "      <th>density</th>\n",
       "      <th>pH</th>\n",
       "      <th>sulphates</th>\n",
       "      <th>alcohol</th>\n",
       "      <th>quality</th>\n",
       "    </tr>\n",
       "  </thead>\n",
       "  <tbody>\n",
       "    <tr>\n",
       "      <th>0</th>\n",
       "      <td>7.4</td>\n",
       "      <td>0.70</td>\n",
       "      <td>0.00</td>\n",
       "      <td>1.9</td>\n",
       "      <td>0.076</td>\n",
       "      <td>11.0</td>\n",
       "      <td>34.0</td>\n",
       "      <td>0.9978</td>\n",
       "      <td>3.51</td>\n",
       "      <td>0.56</td>\n",
       "      <td>9.4</td>\n",
       "      <td>5</td>\n",
       "    </tr>\n",
       "    <tr>\n",
       "      <th>1</th>\n",
       "      <td>7.8</td>\n",
       "      <td>0.88</td>\n",
       "      <td>0.00</td>\n",
       "      <td>2.6</td>\n",
       "      <td>0.098</td>\n",
       "      <td>25.0</td>\n",
       "      <td>67.0</td>\n",
       "      <td>0.9968</td>\n",
       "      <td>3.20</td>\n",
       "      <td>0.68</td>\n",
       "      <td>9.8</td>\n",
       "      <td>5</td>\n",
       "    </tr>\n",
       "    <tr>\n",
       "      <th>2</th>\n",
       "      <td>7.8</td>\n",
       "      <td>0.76</td>\n",
       "      <td>0.04</td>\n",
       "      <td>2.3</td>\n",
       "      <td>0.092</td>\n",
       "      <td>15.0</td>\n",
       "      <td>54.0</td>\n",
       "      <td>0.9970</td>\n",
       "      <td>3.26</td>\n",
       "      <td>0.65</td>\n",
       "      <td>9.8</td>\n",
       "      <td>5</td>\n",
       "    </tr>\n",
       "    <tr>\n",
       "      <th>3</th>\n",
       "      <td>11.2</td>\n",
       "      <td>0.28</td>\n",
       "      <td>0.56</td>\n",
       "      <td>1.9</td>\n",
       "      <td>0.075</td>\n",
       "      <td>17.0</td>\n",
       "      <td>60.0</td>\n",
       "      <td>0.9980</td>\n",
       "      <td>3.16</td>\n",
       "      <td>0.58</td>\n",
       "      <td>9.8</td>\n",
       "      <td>6</td>\n",
       "    </tr>\n",
       "    <tr>\n",
       "      <th>4</th>\n",
       "      <td>7.4</td>\n",
       "      <td>0.70</td>\n",
       "      <td>0.00</td>\n",
       "      <td>1.9</td>\n",
       "      <td>0.076</td>\n",
       "      <td>11.0</td>\n",
       "      <td>34.0</td>\n",
       "      <td>0.9978</td>\n",
       "      <td>3.51</td>\n",
       "      <td>0.56</td>\n",
       "      <td>9.4</td>\n",
       "      <td>5</td>\n",
       "    </tr>\n",
       "  </tbody>\n",
       "</table>\n",
       "</div>"
      ],
      "text/plain": [
       "   fixed acidity  volatile acidity  citric acid  residual sugar  chlorides  \\\n",
       "0            7.4              0.70         0.00             1.9      0.076   \n",
       "1            7.8              0.88         0.00             2.6      0.098   \n",
       "2            7.8              0.76         0.04             2.3      0.092   \n",
       "3           11.2              0.28         0.56             1.9      0.075   \n",
       "4            7.4              0.70         0.00             1.9      0.076   \n",
       "\n",
       "   free sulfur dioxide  total sulfur dioxide  density    pH  sulphates  \\\n",
       "0                 11.0                  34.0   0.9978  3.51       0.56   \n",
       "1                 25.0                  67.0   0.9968  3.20       0.68   \n",
       "2                 15.0                  54.0   0.9970  3.26       0.65   \n",
       "3                 17.0                  60.0   0.9980  3.16       0.58   \n",
       "4                 11.0                  34.0   0.9978  3.51       0.56   \n",
       "\n",
       "   alcohol  quality  \n",
       "0      9.4        5  \n",
       "1      9.8        5  \n",
       "2      9.8        5  \n",
       "3      9.8        6  \n",
       "4      9.4        5  "
      ]
     },
     "execution_count": 2,
     "metadata": {},
     "output_type": "execute_result"
    }
   ],
   "source": [
    "# Read csv\n",
    "data = pd.read_csv(\"/kaggle/input/red-wine-quality-cortez-et-al-2009/winequality-red.csv\")\n",
    "data.head()"
   ]
  },
  {
   "cell_type": "code",
   "execution_count": 3,
   "metadata": {
    "execution": {
     "iopub.execute_input": "2020-10-03T21:52:24.057366Z",
     "iopub.status.busy": "2020-10-03T21:52:24.045194Z",
     "iopub.status.idle": "2020-10-03T21:52:24.061473Z",
     "shell.execute_reply": "2020-10-03T21:52:24.062073Z"
    },
    "papermill": {
     "duration": 0.047075,
     "end_time": "2020-10-03T21:52:24.062225",
     "exception": false,
     "start_time": "2020-10-03T21:52:24.015150",
     "status": "completed"
    },
    "tags": []
   },
   "outputs": [
    {
     "name": "stdout",
     "output_type": "stream",
     "text": [
      "<class 'pandas.core.frame.DataFrame'>\n",
      "RangeIndex: 1599 entries, 0 to 1598\n",
      "Data columns (total 12 columns):\n",
      " #   Column                Non-Null Count  Dtype  \n",
      "---  ------                --------------  -----  \n",
      " 0   fixed acidity         1599 non-null   float64\n",
      " 1   volatile acidity      1599 non-null   float64\n",
      " 2   citric acid           1599 non-null   float64\n",
      " 3   residual sugar        1599 non-null   float64\n",
      " 4   chlorides             1599 non-null   float64\n",
      " 5   free sulfur dioxide   1599 non-null   float64\n",
      " 6   total sulfur dioxide  1599 non-null   float64\n",
      " 7   density               1599 non-null   float64\n",
      " 8   pH                    1599 non-null   float64\n",
      " 9   sulphates             1599 non-null   float64\n",
      " 10  alcohol               1599 non-null   float64\n",
      " 11  quality               1599 non-null   int64  \n",
      "dtypes: float64(11), int64(1)\n",
      "memory usage: 150.0 KB\n"
     ]
    }
   ],
   "source": [
    "data.info()"
   ]
  },
  {
   "cell_type": "code",
   "execution_count": 4,
   "metadata": {
    "execution": {
     "iopub.execute_input": "2020-10-03T21:52:24.117823Z",
     "iopub.status.busy": "2020-10-03T21:52:24.116661Z",
     "iopub.status.idle": "2020-10-03T21:52:24.122912Z",
     "shell.execute_reply": "2020-10-03T21:52:24.122134Z"
    },
    "papermill": {
     "duration": 0.036533,
     "end_time": "2020-10-03T21:52:24.123108",
     "exception": false,
     "start_time": "2020-10-03T21:52:24.086575",
     "status": "completed"
    },
    "tags": []
   },
   "outputs": [
    {
     "name": "stdout",
     "output_type": "stream",
     "text": [
      "Maximum Quality Value: 8\n",
      "Minimum Quality Value: 3\n",
      "0    5\n",
      "1    5\n",
      "2    5\n",
      "3    6\n",
      "4    5\n",
      "Name: quality, dtype: int64\n"
     ]
    }
   ],
   "source": [
    "# Lets check our output\n",
    "print(\"Maximum Quality Value:\",data.quality.max())\n",
    "print(\"Minimum Quality Value:\",data.quality.min())\n",
    "print(data.quality.head())"
   ]
  },
  {
   "cell_type": "markdown",
   "metadata": {
    "papermill": {
     "duration": 0.023477,
     "end_time": "2020-10-03T21:52:24.172602",
     "exception": false,
     "start_time": "2020-10-03T21:52:24.149125",
     "status": "completed"
    },
    "tags": []
   },
   "source": [
    "* As you see, our output (Wine Quality) value is between 3 and 8. So, It is not binary value.\n",
    "* You can think that we shouldn't use Logistic Regression Classification for this dataset because the output is not binary value. But, We can convert it to binary. I will make quality 7 or higher getting classified as 'good/1' and the remainder as 'not good/0.\n",
    "## - Let's start"
   ]
  },
  {
   "attachments": {
    "image.png": {
     "image/png": "[encoded data removed]"
    }
   },
   "cell_type": "markdown",
   "metadata": {
    "papermill": {
     "duration": 0.024055,
     "end_time": "2020-10-03T21:52:24.221138",
     "exception": false,
     "start_time": "2020-10-03T21:52:24.197083",
     "status": "completed"
    },
    "tags": []
   },
   "source": [
    "### Now lets look at computation graph of logistic regression\n",
    "![image.png](attachment:image.png)\n",
    "* Parameters are weight and bias.\n",
    "* Weights: coefficients of each pixels\n",
    "* Bias: intercept\n",
    "* z = (w.t)x + b => z equals to (transpose of weights times input x) + bias\n",
    "* In an other saying => z = b + x1w1 + x2w2 + ... + x_n*w_n\n",
    "* y = sigmoid(z)\n",
    "* Sigmoid function makes z between zero and one so that is probability. You can see sigmoid function in computation graph.\n",
    "\n",
    "### Why we use sigmoid function?\n",
    "* It gives probabilistic result\n",
    "* It is derivative so we can use it in gradient descent algorithm.\n",
    "* Lets make example:\n",
    "* Lets say we find z = 4 and put z into sigmoid function. The result(y_head) is almost 0.9. It means that our classification result is 1 with 90% probability.\n",
    "* Now lets start with from beginning and examine each component of computation graph more detailed."
   ]
  },
  {
   "cell_type": "code",
   "execution_count": 5,
   "metadata": {
    "execution": {
     "iopub.execute_input": "2020-10-03T21:52:24.289413Z",
     "iopub.status.busy": "2020-10-03T21:52:24.287819Z",
     "iopub.status.idle": "2020-10-03T21:52:24.295012Z",
     "shell.execute_reply": "2020-10-03T21:52:24.294250Z"
    },
    "papermill": {
     "duration": 0.050138,
     "end_time": "2020-10-03T21:52:24.295138",
     "exception": false,
     "start_time": "2020-10-03T21:52:24.245000",
     "status": "completed"
    },
    "tags": []
   },
   "outputs": [
    {
     "data": {
      "text/html": [
       "<div>\n",
       "<style scoped>\n",
       "    .dataframe tbody tr th:only-of-type {\n",
       "        vertical-align: middle;\n",
       "    }\n",
       "\n",
       "    .dataframe tbody tr th {\n",
       "        vertical-align: top;\n",
       "    }\n",
       "\n",
       "    .dataframe thead th {\n",
       "        text-align: right;\n",
       "    }\n",
       "</style>\n",
       "<table border=\"1\" class=\"dataframe\">\n",
       "  <thead>\n",
       "    <tr style=\"text-align: right;\">\n",
       "      <th></th>\n",
       "      <th>fixed acidity</th>\n",
       "      <th>volatile acidity</th>\n",
       "      <th>citric acid</th>\n",
       "      <th>residual sugar</th>\n",
       "      <th>chlorides</th>\n",
       "      <th>free sulfur dioxide</th>\n",
       "      <th>total sulfur dioxide</th>\n",
       "      <th>density</th>\n",
       "      <th>pH</th>\n",
       "      <th>sulphates</th>\n",
       "      <th>alcohol</th>\n",
       "      <th>quality</th>\n",
       "    </tr>\n",
       "  </thead>\n",
       "  <tbody>\n",
       "    <tr>\n",
       "      <th>0</th>\n",
       "      <td>7.4</td>\n",
       "      <td>0.70</td>\n",
       "      <td>0.00</td>\n",
       "      <td>1.9</td>\n",
       "      <td>0.076</td>\n",
       "      <td>11.0</td>\n",
       "      <td>34.0</td>\n",
       "      <td>0.9978</td>\n",
       "      <td>3.51</td>\n",
       "      <td>0.56</td>\n",
       "      <td>9.4</td>\n",
       "      <td>5</td>\n",
       "    </tr>\n",
       "    <tr>\n",
       "      <th>1</th>\n",
       "      <td>7.8</td>\n",
       "      <td>0.88</td>\n",
       "      <td>0.00</td>\n",
       "      <td>2.6</td>\n",
       "      <td>0.098</td>\n",
       "      <td>25.0</td>\n",
       "      <td>67.0</td>\n",
       "      <td>0.9968</td>\n",
       "      <td>3.20</td>\n",
       "      <td>0.68</td>\n",
       "      <td>9.8</td>\n",
       "      <td>5</td>\n",
       "    </tr>\n",
       "    <tr>\n",
       "      <th>2</th>\n",
       "      <td>7.8</td>\n",
       "      <td>0.76</td>\n",
       "      <td>0.04</td>\n",
       "      <td>2.3</td>\n",
       "      <td>0.092</td>\n",
       "      <td>15.0</td>\n",
       "      <td>54.0</td>\n",
       "      <td>0.9970</td>\n",
       "      <td>3.26</td>\n",
       "      <td>0.65</td>\n",
       "      <td>9.8</td>\n",
       "      <td>5</td>\n",
       "    </tr>\n",
       "    <tr>\n",
       "      <th>3</th>\n",
       "      <td>11.2</td>\n",
       "      <td>0.28</td>\n",
       "      <td>0.56</td>\n",
       "      <td>1.9</td>\n",
       "      <td>0.075</td>\n",
       "      <td>17.0</td>\n",
       "      <td>60.0</td>\n",
       "      <td>0.9980</td>\n",
       "      <td>3.16</td>\n",
       "      <td>0.58</td>\n",
       "      <td>9.8</td>\n",
       "      <td>6</td>\n",
       "    </tr>\n",
       "    <tr>\n",
       "      <th>4</th>\n",
       "      <td>7.4</td>\n",
       "      <td>0.70</td>\n",
       "      <td>0.00</td>\n",
       "      <td>1.9</td>\n",
       "      <td>0.076</td>\n",
       "      <td>11.0</td>\n",
       "      <td>34.0</td>\n",
       "      <td>0.9978</td>\n",
       "      <td>3.51</td>\n",
       "      <td>0.56</td>\n",
       "      <td>9.4</td>\n",
       "      <td>5</td>\n",
       "    </tr>\n",
       "  </tbody>\n",
       "</table>\n",
       "</div>"
      ],
      "text/plain": [
       "   fixed acidity  volatile acidity  citric acid  residual sugar  chlorides  \\\n",
       "0            7.4              0.70         0.00             1.9      0.076   \n",
       "1            7.8              0.88         0.00             2.6      0.098   \n",
       "2            7.8              0.76         0.04             2.3      0.092   \n",
       "3           11.2              0.28         0.56             1.9      0.075   \n",
       "4            7.4              0.70         0.00             1.9      0.076   \n",
       "\n",
       "   free sulfur dioxide  total sulfur dioxide  density    pH  sulphates  \\\n",
       "0                 11.0                  34.0   0.9978  3.51       0.56   \n",
       "1                 25.0                  67.0   0.9968  3.20       0.68   \n",
       "2                 15.0                  54.0   0.9970  3.26       0.65   \n",
       "3                 17.0                  60.0   0.9980  3.16       0.58   \n",
       "4                 11.0                  34.0   0.9978  3.51       0.56   \n",
       "\n",
       "   alcohol  quality  \n",
       "0      9.4        5  \n",
       "1      9.8        5  \n",
       "2      9.8        5  \n",
       "3      9.8        6  \n",
       "4      9.4        5  "
      ]
     },
     "execution_count": 5,
     "metadata": {},
     "output_type": "execute_result"
    }
   ],
   "source": [
    "data.head()"
   ]
  },
  {
   "cell_type": "markdown",
   "metadata": {
    "papermill": {
     "duration": 0.024584,
     "end_time": "2020-10-03T21:52:24.344383",
     "exception": false,
     "start_time": "2020-10-03T21:52:24.319799",
     "status": "completed"
    },
    "tags": []
   },
   "source": [
    "### If quality is 7 or 8 it is good quality which means \"1\" otherwise \"0\" which means bad quality"
   ]
  },
  {
   "cell_type": "code",
   "execution_count": 6,
   "metadata": {
    "execution": {
     "iopub.execute_input": "2020-10-03T21:52:24.409896Z",
     "iopub.status.busy": "2020-10-03T21:52:24.403544Z",
     "iopub.status.idle": "2020-10-03T21:52:24.425002Z",
     "shell.execute_reply": "2020-10-03T21:52:24.424011Z"
    },
    "papermill": {
     "duration": 0.056172,
     "end_time": "2020-10-03T21:52:24.425189",
     "exception": false,
     "start_time": "2020-10-03T21:52:24.369017",
     "status": "completed"
    },
    "tags": []
   },
   "outputs": [
    {
     "name": "stdout",
     "output_type": "stream",
     "text": [
      "<class 'pandas.core.frame.DataFrame'>\n",
      "RangeIndex: 1599 entries, 0 to 1598\n",
      "Data columns (total 12 columns):\n",
      " #   Column                Non-Null Count  Dtype  \n",
      "---  ------                --------------  -----  \n",
      " 0   fixed acidity         1599 non-null   float64\n",
      " 1   volatile acidity      1599 non-null   float64\n",
      " 2   citric acid           1599 non-null   float64\n",
      " 3   residual sugar        1599 non-null   float64\n",
      " 4   chlorides             1599 non-null   float64\n",
      " 5   free sulfur dioxide   1599 non-null   float64\n",
      " 6   total sulfur dioxide  1599 non-null   float64\n",
      " 7   density               1599 non-null   float64\n",
      " 8   pH                    1599 non-null   float64\n",
      " 9   sulphates             1599 non-null   float64\n",
      " 10  alcohol               1599 non-null   float64\n",
      " 11  quality               1599 non-null   int64  \n",
      "dtypes: float64(11), int64(1)\n",
      "memory usage: 150.0 KB\n",
      "None\n",
      "   fixed acidity  volatile acidity  citric acid  residual sugar  chlorides  \\\n",
      "0            7.4              0.70         0.00             1.9      0.076   \n",
      "1            7.8              0.88         0.00             2.6      0.098   \n",
      "2            7.8              0.76         0.04             2.3      0.092   \n",
      "3           11.2              0.28         0.56             1.9      0.075   \n",
      "4            7.4              0.70         0.00             1.9      0.076   \n",
      "\n",
      "   free sulfur dioxide  total sulfur dioxide  density    pH  sulphates  \\\n",
      "0                 11.0                  34.0   0.9978  3.51       0.56   \n",
      "1                 25.0                  67.0   0.9968  3.20       0.68   \n",
      "2                 15.0                  54.0   0.9970  3.26       0.65   \n",
      "3                 17.0                  60.0   0.9980  3.16       0.58   \n",
      "4                 11.0                  34.0   0.9978  3.51       0.56   \n",
      "\n",
      "   alcohol  quality  \n",
      "0      9.4        0  \n",
      "1      9.8        0  \n",
      "2      9.8        0  \n",
      "3      9.8        0  \n",
      "4      9.4        0  \n"
     ]
    }
   ],
   "source": [
    "data.quality = [1 if each >= 7 else 0 for each in data.quality] # if quality is 7 or 8 it is good quality which means \"1\"\n",
    "print(data.info())\n",
    "print(data.head())\n",
    "y = data.quality.values\n",
    "x_data = data.drop([\"quality\"],axis=1)"
   ]
  },
  {
   "cell_type": "code",
   "execution_count": 7,
   "metadata": {
    "execution": {
     "iopub.execute_input": "2020-10-03T21:52:24.484737Z",
     "iopub.status.busy": "2020-10-03T21:52:24.483880Z",
     "iopub.status.idle": "2020-10-03T21:52:24.524579Z",
     "shell.execute_reply": "2020-10-03T21:52:24.523552Z"
    },
    "papermill": {
     "duration": 0.073274,
     "end_time": "2020-10-03T21:52:24.524750",
     "exception": false,
     "start_time": "2020-10-03T21:52:24.451476",
     "status": "completed"
    },
    "tags": []
   },
   "outputs": [
    {
     "data": {
      "text/html": [
       "<div>\n",
       "<style scoped>\n",
       "    .dataframe tbody tr th:only-of-type {\n",
       "        vertical-align: middle;\n",
       "    }\n",
       "\n",
       "    .dataframe tbody tr th {\n",
       "        vertical-align: top;\n",
       "    }\n",
       "\n",
       "    .dataframe thead th {\n",
       "        text-align: right;\n",
       "    }\n",
       "</style>\n",
       "<table border=\"1\" class=\"dataframe\">\n",
       "  <thead>\n",
       "    <tr style=\"text-align: right;\">\n",
       "      <th></th>\n",
       "      <th>fixed acidity</th>\n",
       "      <th>volatile acidity</th>\n",
       "      <th>citric acid</th>\n",
       "      <th>residual sugar</th>\n",
       "      <th>chlorides</th>\n",
       "      <th>free sulfur dioxide</th>\n",
       "      <th>total sulfur dioxide</th>\n",
       "      <th>density</th>\n",
       "      <th>pH</th>\n",
       "      <th>sulphates</th>\n",
       "      <th>alcohol</th>\n",
       "    </tr>\n",
       "  </thead>\n",
       "  <tbody>\n",
       "    <tr>\n",
       "      <th>0</th>\n",
       "      <td>0.247788</td>\n",
       "      <td>0.397260</td>\n",
       "      <td>0.00</td>\n",
       "      <td>0.068493</td>\n",
       "      <td>0.106845</td>\n",
       "      <td>0.140845</td>\n",
       "      <td>0.098940</td>\n",
       "      <td>0.567548</td>\n",
       "      <td>0.606299</td>\n",
       "      <td>0.137725</td>\n",
       "      <td>0.153846</td>\n",
       "    </tr>\n",
       "    <tr>\n",
       "      <th>1</th>\n",
       "      <td>0.283186</td>\n",
       "      <td>0.520548</td>\n",
       "      <td>0.00</td>\n",
       "      <td>0.116438</td>\n",
       "      <td>0.143573</td>\n",
       "      <td>0.338028</td>\n",
       "      <td>0.215548</td>\n",
       "      <td>0.494126</td>\n",
       "      <td>0.362205</td>\n",
       "      <td>0.209581</td>\n",
       "      <td>0.215385</td>\n",
       "    </tr>\n",
       "    <tr>\n",
       "      <th>2</th>\n",
       "      <td>0.283186</td>\n",
       "      <td>0.438356</td>\n",
       "      <td>0.04</td>\n",
       "      <td>0.095890</td>\n",
       "      <td>0.133556</td>\n",
       "      <td>0.197183</td>\n",
       "      <td>0.169611</td>\n",
       "      <td>0.508811</td>\n",
       "      <td>0.409449</td>\n",
       "      <td>0.191617</td>\n",
       "      <td>0.215385</td>\n",
       "    </tr>\n",
       "    <tr>\n",
       "      <th>3</th>\n",
       "      <td>0.584071</td>\n",
       "      <td>0.109589</td>\n",
       "      <td>0.56</td>\n",
       "      <td>0.068493</td>\n",
       "      <td>0.105175</td>\n",
       "      <td>0.225352</td>\n",
       "      <td>0.190813</td>\n",
       "      <td>0.582232</td>\n",
       "      <td>0.330709</td>\n",
       "      <td>0.149701</td>\n",
       "      <td>0.215385</td>\n",
       "    </tr>\n",
       "    <tr>\n",
       "      <th>4</th>\n",
       "      <td>0.247788</td>\n",
       "      <td>0.397260</td>\n",
       "      <td>0.00</td>\n",
       "      <td>0.068493</td>\n",
       "      <td>0.106845</td>\n",
       "      <td>0.140845</td>\n",
       "      <td>0.098940</td>\n",
       "      <td>0.567548</td>\n",
       "      <td>0.606299</td>\n",
       "      <td>0.137725</td>\n",
       "      <td>0.153846</td>\n",
       "    </tr>\n",
       "  </tbody>\n",
       "</table>\n",
       "</div>"
      ],
      "text/plain": [
       "   fixed acidity  volatile acidity  citric acid  residual sugar  chlorides  \\\n",
       "0       0.247788          0.397260         0.00        0.068493   0.106845   \n",
       "1       0.283186          0.520548         0.00        0.116438   0.143573   \n",
       "2       0.283186          0.438356         0.04        0.095890   0.133556   \n",
       "3       0.584071          0.109589         0.56        0.068493   0.105175   \n",
       "4       0.247788          0.397260         0.00        0.068493   0.106845   \n",
       "\n",
       "   free sulfur dioxide  total sulfur dioxide   density        pH  sulphates  \\\n",
       "0             0.140845              0.098940  0.567548  0.606299   0.137725   \n",
       "1             0.338028              0.215548  0.494126  0.362205   0.209581   \n",
       "2             0.197183              0.169611  0.508811  0.409449   0.191617   \n",
       "3             0.225352              0.190813  0.582232  0.330709   0.149701   \n",
       "4             0.140845              0.098940  0.567548  0.606299   0.137725   \n",
       "\n",
       "    alcohol  \n",
       "0  0.153846  \n",
       "1  0.215385  \n",
       "2  0.215385  \n",
       "3  0.215385  \n",
       "4  0.153846  "
      ]
     },
     "execution_count": 7,
     "metadata": {},
     "output_type": "execute_result"
    }
   ],
   "source": [
    "# Normalization\n",
    "x = (x_data - np.min(x_data))/(np.max(x_data)-np.min(x_data)).values\n",
    "x.head()"
   ]
  },
  {
   "cell_type": "code",
   "execution_count": 8,
   "metadata": {
    "execution": {
     "iopub.execute_input": "2020-10-03T21:52:24.591656Z",
     "iopub.status.busy": "2020-10-03T21:52:24.590660Z",
     "iopub.status.idle": "2020-10-03T21:52:24.595865Z",
     "shell.execute_reply": "2020-10-03T21:52:24.595048Z"
    },
    "papermill": {
     "duration": 0.044911,
     "end_time": "2020-10-03T21:52:24.596000",
     "exception": false,
     "start_time": "2020-10-03T21:52:24.551089",
     "status": "completed"
    },
    "tags": []
   },
   "outputs": [
    {
     "name": "stdout",
     "output_type": "stream",
     "text": [
      "x_train:  (11, 1279)\n",
      "x_test:  (11, 320)\n",
      "y_train:  (1279,)\n",
      "y_test:  (320,)\n"
     ]
    }
   ],
   "source": [
    "# Test - Train Split\n",
    "from sklearn.model_selection import train_test_split\n",
    "x_train, x_test, y_train, y_test = train_test_split(x,y,test_size = 0.2,random_state=42)\n",
    "\n",
    "x_train = x_train.T\n",
    "x_test = x_test.T\n",
    "y_train = y_train.T\n",
    "y_test = y_test.T\n",
    "\n",
    "print(\"x_train: \",x_train.shape)\n",
    "print(\"x_test: \",x_test.shape)\n",
    "print(\"y_train: \",y_train.shape)\n",
    "print(\"y_test: \",y_test.shape)"
   ]
  },
  {
   "cell_type": "markdown",
   "metadata": {
    "papermill": {
     "duration": 0.026316,
     "end_time": "2020-10-03T21:52:24.649035",
     "exception": false,
     "start_time": "2020-10-03T21:52:24.622719",
     "status": "completed"
    },
    "tags": []
   },
   "source": [
    "## Initializing parameters\n",
    "\n",
    "* The first step is multiplying each x values with their own weights.\n",
    "* The question is that what is the initial value of weights?\n",
    "* There are some techniques but to not make problem more difficult initial weights were selected as 0.01.\n",
    "* Also initial bias is 0.\n",
    "* Lets write some code."
   ]
  },
  {
   "cell_type": "code",
   "execution_count": 9,
   "metadata": {
    "execution": {
     "iopub.execute_input": "2020-10-03T21:52:24.713583Z",
     "iopub.status.busy": "2020-10-03T21:52:24.712377Z",
     "iopub.status.idle": "2020-10-03T21:52:24.715522Z",
     "shell.execute_reply": "2020-10-03T21:52:24.716254Z"
    },
    "papermill": {
     "duration": 0.037785,
     "end_time": "2020-10-03T21:52:24.716418",
     "exception": false,
     "start_time": "2020-10-03T21:52:24.678633",
     "status": "completed"
    },
    "tags": []
   },
   "outputs": [],
   "source": [
    "# Parameter initialize and sigmoid function\n",
    "\n",
    "def initialize_weights_and_bias(dimension):\n",
    "    \n",
    "    w = np.full((dimension,1),0.01)\n",
    "    b = 0.0\n",
    "    return w,b\n",
    "\n",
    "# w,b = initialize_weights_and_bias(30)\n",
    "\n",
    "def sigmoid(z):\n",
    "    \n",
    "    y_head = 1/(1+ np.exp(-z))\n",
    "    return y_head\n",
    "\n",
    "# print(sigmoid(0))"
   ]
  },
  {
   "cell_type": "markdown",
   "metadata": {
    "papermill": {
     "duration": 0.02644,
     "end_time": "2020-10-03T21:52:24.770197",
     "exception": false,
     "start_time": "2020-10-03T21:52:24.743757",
     "status": "completed"
    },
    "tags": []
   },
   "source": [
    "## Forward Propagation\n",
    "* ### The all steps from X to cost is called forward propagation\n",
    "\n",
    "    * z = (w.T)x + b => in this equation we know x that is array, we know w (weights) and b (bias) so the rest is calculation. (T is transpose)\n",
    "    * Then we put z into sigmoid function that returns y_head(probability). When your mind is confused go and look at computation graph. Also equation of sigmoid function is in computation graph.\n",
    "    * Then we calculate loss(error) function.\n",
    "    * Cost function is summation of all loss(error).\n",
    "    * Lets start with z and the write sigmoid definition(method) that takes z as input parameter and returns y_head(probability)"
   ]
  },
  {
   "cell_type": "code",
   "execution_count": 10,
   "metadata": {
    "execution": {
     "iopub.execute_input": "2020-10-03T21:52:24.835957Z",
     "iopub.status.busy": "2020-10-03T21:52:24.834926Z",
     "iopub.status.idle": "2020-10-03T21:52:24.838421Z",
     "shell.execute_reply": "2020-10-03T21:52:24.837772Z"
    },
    "papermill": {
     "duration": 0.041258,
     "end_time": "2020-10-03T21:52:24.838565",
     "exception": false,
     "start_time": "2020-10-03T21:52:24.797307",
     "status": "completed"
    },
    "tags": []
   },
   "outputs": [],
   "source": [
    "def forward_backward_propagation(w,b,x_train,y_train):\n",
    "    \n",
    "    # forward propagation\n",
    "    z = np.dot(w.T,x_train) + b\n",
    "    y_head = sigmoid(z)\n",
    "    loss = -y_train*np.log(y_head)-(1-y_train)*np.log(1-y_head)\n",
    "    cost = (np.sum(loss))/x_train.shape[1]      # x_train.shape[1]  is for scaling\n",
    "    \n",
    "    # backward propagation\n",
    "    derivative_weight = (np.dot(x_train,((y_head-y_train).T)))/x_train.shape[1] # x_train.shape[1]  is for scaling\n",
    "    derivative_bias = np.sum(y_head-y_train)/x_train.shape[1]                 # x_train.shape[1]  is for scaling\n",
    "    gradients = {\"derivative_weight\": derivative_weight, \"derivative_bias\": derivative_bias}\n",
    "    \n",
    "    return cost,gradients"
   ]
  },
  {
   "cell_type": "markdown",
   "metadata": {
    "papermill": {
     "duration": 0.026525,
     "end_time": "2020-10-03T21:52:24.892117",
     "exception": false,
     "start_time": "2020-10-03T21:52:24.865592",
     "status": "completed"
    },
    "tags": []
   },
   "source": [
    "* As we write sigmoid method and calculate y_head. Lets learn what is loss(error) function\n",
    "* Loss function has an important job in that it must faithfully distill all aspects of the model down into a single number in such a way that improvements in that number are a sign of a better model. Let's say we have a prediction that is correct or not correct and how do we check whether it is correct or not? The answer is with loss(error) function:\n",
    "* Mathematical expression of log loss(error) function is that: \n",
    "    <a href=\"https://imgbb.com/\"><img src=\"https://image.ibb.co/eC0JCK/duzeltme.jpg\" alt=\"duzeltme\" border=\"0\"></a>\n",
    "* It says that if you make wrong prediction, loss(error) becomes big.\n",
    "* After that, we find the cost function that is summation of loss function. Each input creates loss function. Cost function is summation of loss functions that is created by each input."
   ]
  },
  {
   "cell_type": "markdown",
   "metadata": {
    "papermill": {
     "duration": 0.026892,
     "end_time": "2020-10-03T21:52:24.946611",
     "exception": false,
     "start_time": "2020-10-03T21:52:24.919719",
     "status": "completed"
    },
    "tags": []
   },
   "source": [
    "##  Optimization Algorithm with Gradient Descent\n",
    "* Well, now we know what is our cost that is error.\n",
    "* Therefore, we need to decrease cost because as we know if cost is high it means that we make wrong prediction.\n",
    "* Lets think first step, every thing starts with initializing weights and bias. Therefore cost is dependent with them.\n",
    "* In order to decrease cost, we need to update weights and bias.\n",
    "* In other words, our model needs to learn the parameters weights and bias that minimize cost function. This technique is called gradient descent.\n",
    "* Lets make an example:\n",
    "    * We have w = 5 and bias = 0 (so ignore bias for now). Then we make forward propagation and our cost function is 1.5.\n",
    "    * It looks like this. (red lines)\n",
    "    <a href=\"http://imgbb.com/\"><img src=\"http://image.ibb.co/dAaYJH/7.jpg\" alt=\"7\" border=\"0\"></a>\n",
    "    * As you can see from graph, we are not at minimum point of cost function. Therefore we need to go through minimum cost. Okey, lets update weight. ( the symbol := is updating)\n",
    "    * w := w - step. The question is what is this step? Step is slope1. Okey, it looks remarkable. In order to find minimum point, we can use slope1. Then lets say slope1 = 3 and update our weight. w := w - slope1 => w = 2.\n",
    "    * Now, our weight w is 2. As you remember, we need to find cost function with forward propagation again. \n",
    "    * Lets say according to forward propagation with w = 2, cost function is 0.4. Hmm, we are at right way because our cost function is decrease. We have new value for cost function that is cost = 0.4. Is that enough? Actually I do not know lets try one more step.\n",
    "    * Slope2 = 0.7 and w = 2. Lets update weight w : = w - step(slope2) => w = 1.3 that is new weight. So lets find new cost.\n",
    "    * Make one more forward propagation with w = 1.3 and our cost = 0.3. Okey, our cost even decreased, it looks like fine but is it enough or do we need to make one more step? The answer is again I do not know, lets try.\n",
    "    * Slope3 = 0.01 and w = 1.3. Updating weight w := w - step(slope3) => w = 1.29 ~ 1.3. So weight does not change because we find minimum point of cost function. \n",
    "    * Everything looks like good but how we find slope? If you remember from high school or university, in order to find slope of function(cost function) at given point(at given weight) we take derivative of function at given point. Also you can ask that okey well we find slope but how it knows where it go. You can say that it can go more higher cost values instead of going minimum point. The asnwer is that slope(derivative) gives both step and direction of step. Therefore do not worry :)\n",
    "    * Update equation is this. It says that there is a cost function(takes weight and bias). Take derivative of cost function according to weight and bias. Then multiply it with  α learning rate. Then update weight. (In order to explain I ignore bias but these all steps will be applied for bias)\n",
    "    <a href=\"http://imgbb.com/\"><img src=\"http://image.ibb.co/hYTTJH/8.jpg\" alt=\"8\" border=\"0\"></a>\n",
    "    * Now, I am sure you are asking what is learning rate that I mentioned never. It is very simple term that determines learning rate. Hovewer there is tradeoff between learning fast and never learning. For example you are at Paris(current cost) and want to go Madrid(minimum cost). If your speed(learning rate) is small, you can go Madrid very slowly and it takes too long time. On ther other hand, if your speed(learning rate) is big, you can go very fast but maybe you make crash and never go to Madrid. Therefore, we need to choose wisely our speed(learning rate).\n",
    "    * Learning rate is also called hyperparameter that need to be chosen and tuned. I will explain it more detailed in artificial neural network with other hyperparameters. For now just say learning rate is 1 for our previous example.\n",
    "  \n",
    "* I think now you understand the logic behind forward propagation(from weights and bias to cost) and backward propagation(from cost to weights and bias to update them). Also you learn gradient descent. Before implementing the code you need to learn one more thing that is how we take derivative of cost function according to weights and bias. It is not related with python or coding. It is pure mathematic. There are two option first one is to google how to take derivative of log loss function and second one is even to google what is derivative of log loss function :) I choose second one because I cannot explain math without talking :) \n",
    "$$ \\frac{\\partial J}{\\partial w} = \\frac{1}{m}x(  y_head - y)^T$$\n",
    "$$ \\frac{\\partial J}{\\partial b} = \\frac{1}{m} \\sum_{i=1}^m (y_head-y)$$"
   ]
  },
  {
   "cell_type": "code",
   "execution_count": 11,
   "metadata": {
    "execution": {
     "iopub.execute_input": "2020-10-03T21:52:25.019953Z",
     "iopub.status.busy": "2020-10-03T21:52:25.018789Z",
     "iopub.status.idle": "2020-10-03T21:52:25.022392Z",
     "shell.execute_reply": "2020-10-03T21:52:25.021729Z"
    },
    "papermill": {
     "duration": 0.049018,
     "end_time": "2020-10-03T21:52:25.022531",
     "exception": false,
     "start_time": "2020-10-03T21:52:24.973513",
     "status": "completed"
    },
    "tags": []
   },
   "outputs": [],
   "source": [
    "# Updating(learning) parameters\n",
    "def update(w, b, x_train, y_train, learning_rate,number_of_iterarion):\n",
    "    cost_list = []\n",
    "    cost_list2 = []\n",
    "    index = []\n",
    "    \n",
    "    # updating(learning) parameters is number_of_iterarion times\n",
    "    for i in range(number_of_iterarion):\n",
    "        # make forward and backward propagation and find cost and gradients\n",
    "        cost,gradients = forward_backward_propagation(w,b,x_train,y_train)\n",
    "        cost_list.append(cost)\n",
    "        # lets update\n",
    "        w = w - learning_rate * gradients[\"derivative_weight\"]\n",
    "        b = b - learning_rate * gradients[\"derivative_bias\"]\n",
    "        if i % 5 == 0:\n",
    "            cost_list2.append(cost)\n",
    "            index.append(i)\n",
    "            print (\"Cost after iteration %i: %f\" %(i, cost))\n",
    "            \n",
    "    # we update(learn) parameters weights and bias\n",
    "    parameters = {\"weight\": w,\"bias\": b}\n",
    "    plt.plot(index,cost_list2)\n",
    "    plt.xticks(index,rotation='vertical')\n",
    "    plt.xlabel(\"Number of Iterarion\")\n",
    "    plt.ylabel(\"Cost\")\n",
    "    plt.show()\n",
    "    return parameters, gradients, cost_list"
   ]
  },
  {
   "cell_type": "markdown",
   "metadata": {
    "papermill": {
     "duration": 0.027322,
     "end_time": "2020-10-03T21:52:25.077525",
     "exception": false,
     "start_time": "2020-10-03T21:52:25.050203",
     "status": "completed"
    },
    "tags": []
   },
   "source": [
    "* Up to this point we learn our parameters. It means we fit the data. \n",
    "* In order to predict we have parameters. Therefore, lets predict.\n",
    "* In prediction step we have x_test as a input and while using it, we make forward prediction."
   ]
  },
  {
   "cell_type": "code",
   "execution_count": 12,
   "metadata": {
    "execution": {
     "iopub.execute_input": "2020-10-03T21:52:25.141950Z",
     "iopub.status.busy": "2020-10-03T21:52:25.141189Z",
     "iopub.status.idle": "2020-10-03T21:52:25.145126Z",
     "shell.execute_reply": "2020-10-03T21:52:25.144363Z"
    },
    "papermill": {
     "duration": 0.040308,
     "end_time": "2020-10-03T21:52:25.145252",
     "exception": false,
     "start_time": "2020-10-03T21:52:25.104944",
     "status": "completed"
    },
    "tags": []
   },
   "outputs": [],
   "source": [
    "# prediction\n",
    "def predict(w,b,x_test):\n",
    "    # x_test is a input for forward propagation\n",
    "    z = sigmoid(np.dot(w.T,x_test)+b)\n",
    "    Y_prediction = np.zeros((1,x_test.shape[1]))\n",
    "    # if z is bigger than 0.5, our prediction is sign one (y_head=1),\n",
    "    # if z is smaller than 0.5, our prediction is sign zero (y_head=0),\n",
    "    for i in range(z.shape[1]):\n",
    "        if z[0,i]<= 0.5:\n",
    "            Y_prediction[0,i] = 0\n",
    "        else:\n",
    "            Y_prediction[0,i] = 1\n",
    "\n",
    "    return Y_prediction"
   ]
  },
  {
   "cell_type": "markdown",
   "metadata": {
    "papermill": {
     "duration": 0.02887,
     "end_time": "2020-10-03T21:52:25.202535",
     "exception": false,
     "start_time": "2020-10-03T21:52:25.173665",
     "status": "completed"
    },
    "tags": []
   },
   "source": [
    "Now lets put them all together."
   ]
  },
  {
   "cell_type": "code",
   "execution_count": 13,
   "metadata": {
    "execution": {
     "iopub.execute_input": "2020-10-03T21:52:25.269798Z",
     "iopub.status.busy": "2020-10-03T21:52:25.268958Z",
     "iopub.status.idle": "2020-10-03T21:52:25.575222Z",
     "shell.execute_reply": "2020-10-03T21:52:25.575822Z"
    },
    "papermill": {
     "duration": 0.346183,
     "end_time": "2020-10-03T21:52:25.575979",
     "exception": false,
     "start_time": "2020-10-03T21:52:25.229796",
     "status": "completed"
    },
    "tags": []
   },
   "outputs": [
    {
     "name": "stdout",
     "output_type": "stream",
     "text": [
      "Cost after iteration 0: 0.703827\n",
      "Cost after iteration 5: 0.397544\n",
      "Cost after iteration 10: 0.387568\n",
      "Cost after iteration 15: 0.382615\n",
      "Cost after iteration 20: 0.378167\n",
      "Cost after iteration 25: 0.373956\n",
      "Cost after iteration 30: 0.369955\n",
      "Cost after iteration 35: 0.366153\n",
      "Cost after iteration 40: 0.362541\n",
      "Cost after iteration 45: 0.359107\n",
      "Cost after iteration 50: 0.355845\n",
      "Cost after iteration 55: 0.352744\n",
      "Cost after iteration 60: 0.349797\n",
      "Cost after iteration 65: 0.346995\n",
      "Cost after iteration 70: 0.344331\n",
      "Cost after iteration 75: 0.341798\n",
      "Cost after iteration 80: 0.339388\n",
      "Cost after iteration 85: 0.337095\n",
      "Cost after iteration 90: 0.334912\n",
      "Cost after iteration 95: 0.332833\n"
     ]
    },
    {
     "data": {
      "image/png": "[encoded data removed]",
      "text/plain": [
       "<Figure size 432x288 with 1 Axes>"
      ]
     },
     "metadata": {
      "needs_background": "light"
     },
     "output_type": "display_data"
    },
    {
     "name": "stdout",
     "output_type": "stream",
     "text": [
      "test accuracy: 85.3125 %\n"
     ]
    }
   ],
   "source": [
    "# logistic_regression\n",
    "def logistic_regression(x_train, y_train, x_test, y_test, learning_rate ,  num_iterations):\n",
    "    \n",
    "    # initialize\n",
    "    dimension =  x_train.shape[0]\n",
    "    w,b = initialize_weights_and_bias(dimension)\n",
    "    # do not change learning rate\n",
    "    parameters, gradients, cost_list = update(w, b, x_train, y_train, learning_rate,num_iterations)\n",
    "    \n",
    "    y_prediction_test = predict(parameters[\"weight\"],parameters[\"bias\"],x_test)\n",
    "\n",
    "    # Print test Errors\n",
    "    print(\"test accuracy: {} %\".format(100 - np.mean(np.abs(y_prediction_test - y_test)) * 100))\n",
    "    \n",
    "logistic_regression(x_train, y_train, x_test, y_test,learning_rate = 1, num_iterations = 100)"
   ]
  },
  {
   "cell_type": "markdown",
   "metadata": {
    "papermill": {
     "duration": 0.029842,
     "end_time": "2020-10-03T21:52:25.634871",
     "exception": false,
     "start_time": "2020-10-03T21:52:25.605029",
     "status": "completed"
    },
    "tags": []
   },
   "source": [
    "* We learn logic behind simple neural network(logistic regression) and how to implement it.\n",
    "* Now that we have learned logic, we can use sklearn library which is easier than implementing all steps with hand for logistic regression.\n",
    "\n",
    "## Logistic Regression with Sklearn\n",
    "* In sklearn library, there is a logistic regression method that ease implementing logistic regression."
   ]
  },
  {
   "cell_type": "code",
   "execution_count": 14,
   "metadata": {
    "execution": {
     "iopub.execute_input": "2020-10-03T21:52:25.704718Z",
     "iopub.status.busy": "2020-10-03T21:52:25.703881Z",
     "iopub.status.idle": "2020-10-03T21:52:25.733669Z",
     "shell.execute_reply": "2020-10-03T21:52:25.732913Z"
    },
    "papermill": {
     "duration": 0.068855,
     "end_time": "2020-10-03T21:52:25.733797",
     "exception": false,
     "start_time": "2020-10-03T21:52:25.664942",
     "status": "completed"
    },
    "tags": []
   },
   "outputs": [
    {
     "name": "stdout",
     "output_type": "stream",
     "text": [
      "test accuracy 0.86875\n"
     ]
    }
   ],
   "source": [
    "# Logistic Regression with Sklearn \n",
    "from sklearn.linear_model import LogisticRegression\n",
    "lr = LogisticRegression()\n",
    "lr.fit(x_train.T,y_train.T)\n",
    "print(\"test accuracy {}\".format(lr.score(x_test.T,y_test.T)))"
   ]
  },
  {
   "cell_type": "markdown",
   "metadata": {
    "papermill": {
     "duration": 0.02996,
     "end_time": "2020-10-03T21:52:25.796996",
     "exception": false,
     "start_time": "2020-10-03T21:52:25.767036",
     "status": "completed"
    },
    "tags": []
   },
   "source": [
    "## Summary\n",
    "What we did at this first part:\n",
    "    \n",
    "* Initialize parameters weight and bias\n",
    "* Forward propagation\n",
    "* Loss function\n",
    "* Cost function\n",
    "* Backward propagation (gradient descent)\n",
    "* Prediction with learnt parameters weight and bias\n",
    "* Logistic regression with sklearn\n",
    "\n",
    "In conclusion, in first part we learned the math behind logistic regression classification and wrote the code. In second part, we used sklearn library for logistic regression classification. \n",
    "    \n",
    "### Our accuracy without using library is 85.3125 %, with library 86.875 %"
   ]
  },
  {
   "cell_type": "code",
   "execution_count": null,
   "metadata": {
    "papermill": {
     "duration": 0.030206,
     "end_time": "2020-10-03T21:52:25.858955",
     "exception": false,
     "start_time": "2020-10-03T21:52:25.828749",
     "status": "completed"
    },
    "tags": []
   },
   "outputs": [],
   "source": []
  }
 ],
 "metadata": {
  "kernelspec": {
   "display_name": "Python 3",
   "language": "python",
   "name": "python3"
  },
  "language_info": {
   "codemirror_mode": {
    "name": "ipython",
    "version": 3
   },
   "file_extension": ".py",
   "mimetype": "text/x-python",
   "name": "python",
   "nbconvert_exporter": "python",
   "pygments_lexer": "ipython3",
   "version": "3.7.6"
  },
  "papermill": {
   "duration": 8.588549,
   "end_time": "2020-10-03T21:52:25.997816",
   "environment_variables": {},
   "exception": null,
   "input_path": "__notebook__.ipynb",
   "output_path": "__notebook__.ipynb",
   "parameters": {},
   "start_time": "2020-10-03T21:52:17.409267",
   "version": "2.1.0"
  }
 },
 "nbformat": 4,
 "nbformat_minor": 4
}
